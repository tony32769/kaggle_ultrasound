{
 "cells": [
  {
   "cell_type": "code",
   "execution_count": 1,
   "metadata": {
    "collapsed": false
   },
   "outputs": [
    {
     "name": "stderr",
     "output_type": "stream",
     "text": [
      "Using Theano backend.\n",
      "Using gpu device 0: GRID K520 (CNMeM is disabled)\n"
     ]
    }
   ],
   "source": [
    "import os\n",
    "os.environ[\"THEANO_FLAGS\"] = \"mode=FAST_RUN,device=gpu,floatX=float32\"\n",
    "\n",
    "import numpy as np\n",
    "from keras.callbacks import EarlyStopping, ModelCheckpoint\n",
    "from sklearn.cross_validation import StratifiedKFold\n",
    "import models\n",
    "import utils\n",
    "import xgboost as xgb\n",
    "from keras.preprocessing.image import ImageDataGenerator\n",
    "import glob\n",
    "from scipy import misc\n",
    "from skimage import transform\n",
    "from matplotlib import pyplot as plt\n",
    "%matplotlib inline"
   ]
  },
  {
   "cell_type": "code",
   "execution_count": 2,
   "metadata": {
    "collapsed": false
   },
   "outputs": [],
   "source": [
    "models = reload(models)"
   ]
  },
  {
   "cell_type": "code",
   "execution_count": 70,
   "metadata": {
    "collapsed": false
   },
   "outputs": [
    {
     "name": "stdout",
     "output_type": "stream",
     "text": [
      "(2323, 1, 96, 128)\n"
     ]
    }
   ],
   "source": [
    "\n",
    "\n",
    "#get data\n",
    "X, y = utils.get_pics(\"./train/*[0-9]_*[0-9].tif\", True)\n",
    "\n",
    "#define CV\n",
    "labels = np.zeros(y.shape[0])\n",
    "for i in range(len(labels)):\n",
    "    if np.sum(y[i, 0, :, :]) > 0:\n",
    "        labels[i] = 1\n"
   ]
  },
  {
   "cell_type": "code",
   "execution_count": 74,
   "metadata": {
    "collapsed": true
   },
   "outputs": [],
   "source": [
    "labels = np.expand_dims(labels, 1)"
   ]
  },
  {
   "cell_type": "code",
   "execution_count": 3,
   "metadata": {
    "collapsed": true
   },
   "outputs": [],
   "source": [
    "X = np.load('/mnt/weights/X.npy')\n",
    "y = np.load('/mnt/weights/y.npy')\n",
    "labels = np.load('/mnt/weights/labels.npy')"
   ]
  },
  {
   "cell_type": "code",
   "execution_count": null,
   "metadata": {
    "collapsed": true
   },
   "outputs": [],
   "source": []
  },
  {
   "cell_type": "code",
   "execution_count": 4,
   "metadata": {
    "collapsed": true
   },
   "outputs": [],
   "source": [
    "def trans(im1, im2):\n",
    "    rands = np.random.rand(4) - .5\n",
    "\n",
    "    tform = transform.AffineTransform(shear= rands[0] / 4., rotation= rands[1] / 5.,\n",
    "                                        translation = (rands[2]*20., rands[3]*15.))\n",
    "    im1 = transform.warp(im1, tform)\n",
    "    im2 = transform.warp(im2, tform)\n",
    "\n",
    "    return im1, im2"
   ]
  },
  {
   "cell_type": "code",
   "execution_count": 5,
   "metadata": {
    "collapsed": true
   },
   "outputs": [],
   "source": [
    "def generator(X, y):\n",
    "    \n",
    "    while 1:\n",
    "        idx = np.random.choice(range(X.shape[0]), 32)\n",
    "        X_batch = X[idx, :, :, :]\n",
    "        y_batch = y[idx, :, :, :]\n",
    "\n",
    "        for i in range(32):\n",
    "            X_batch[i, 0, :, :], y_batch[i, 0, :, :] = trans(X_batch[i, 0, :, :], y_batch[i, 0, :, :])\n",
    "        \n",
    "        yield X_batch, y_batch"
   ]
  },
  {
   "cell_type": "code",
   "execution_count": 7,
   "metadata": {
    "collapsed": false
   },
   "outputs": [
    {
     "name": "stdout",
     "output_type": "stream",
     "text": [
      "Epoch 1/30\n",
      "5600/5600 [==============================] - 370s - loss: -0.4024 - dice_coef: 0.4024   \n",
      "Epoch 2/30\n",
      "5600/5600 [==============================] - 369s - loss: -0.6019 - dice_coef: 0.6019   \n",
      "Epoch 3/30\n",
      "5600/5600 [==============================] - 369s - loss: -0.6220 - dice_coef: 0.6220   \n",
      "Epoch 4/30\n",
      "5600/5600 [==============================] - 369s - loss: -0.6319 - dice_coef: 0.6319   \n",
      "Epoch 5/30\n",
      "5600/5600 [==============================] - 369s - loss: -0.6364 - dice_coef: 0.6364   \n",
      "Epoch 6/30\n",
      "5600/5600 [==============================] - 369s - loss: -0.6564 - dice_coef: 0.6564   \n",
      "Epoch 7/30\n",
      "5600/5600 [==============================] - 369s - loss: -0.6578 - dice_coef: 0.6578   \n",
      "Epoch 8/30\n",
      "5600/5600 [==============================] - 369s - loss: -0.6511 - dice_coef: 0.6511   \n",
      "Epoch 9/30\n",
      "5600/5600 [==============================] - 369s - loss: -0.6662 - dice_coef: 0.6662   \n",
      "Epoch 10/30\n",
      "5600/5600 [==============================] - 369s - loss: -0.6607 - dice_coef: 0.6607   \n",
      "Epoch 11/30\n",
      "5600/5600 [==============================] - 369s - loss: -0.6743 - dice_coef: 0.6743   \n",
      "Epoch 12/30\n",
      "5600/5600 [==============================] - 369s - loss: -0.6655 - dice_coef: 0.6655   \n",
      "Epoch 13/30\n",
      "5600/5600 [==============================] - 369s - loss: -0.6597 - dice_coef: 0.6597   \n",
      "Epoch 14/30\n",
      "5600/5600 [==============================] - 369s - loss: -0.6770 - dice_coef: 0.6770   \n",
      "Epoch 15/30\n",
      "5600/5600 [==============================] - 369s - loss: -0.6898 - dice_coef: 0.6898   \n",
      "Epoch 16/30\n",
      "5600/5600 [==============================] - 368s - loss: -0.6874 - dice_coef: 0.6874   \n",
      "Epoch 17/30\n",
      "5600/5600 [==============================] - 369s - loss: -0.6820 - dice_coef: 0.6820   \n",
      "Epoch 18/30\n",
      "5600/5600 [==============================] - 369s - loss: -0.6841 - dice_coef: 0.6841   \n",
      "Epoch 19/30\n",
      "5600/5600 [==============================] - 369s - loss: -0.6898 - dice_coef: 0.6898   \n",
      "Epoch 20/30\n",
      "5600/5600 [==============================] - 369s - loss: -0.6982 - dice_coef: 0.6982   \n",
      "Epoch 21/30\n",
      "5600/5600 [==============================] - 369s - loss: -0.6936 - dice_coef: 0.6936   \n",
      "Epoch 22/30\n",
      "5600/5600 [==============================] - 369s - loss: -0.7030 - dice_coef: 0.7030   \n",
      "Epoch 23/30\n",
      "5600/5600 [==============================] - 369s - loss: -0.7076 - dice_coef: 0.7076   \n",
      "Epoch 24/30\n",
      "5600/5600 [==============================] - 369s - loss: -0.7063 - dice_coef: 0.7063   \n",
      "Epoch 25/30\n",
      "5600/5600 [==============================] - 369s - loss: -0.7067 - dice_coef: 0.7067   \n",
      "Epoch 26/30\n",
      "5600/5600 [==============================] - 369s - loss: -0.7035 - dice_coef: 0.7035   \n",
      "Epoch 27/30\n",
      "5600/5600 [==============================] - 371s - loss: -0.7042 - dice_coef: 0.7042   \n",
      "Epoch 28/30\n",
      "5600/5600 [==============================] - 370s - loss: -0.7167 - dice_coef: 0.7167   \n",
      "Epoch 29/30\n",
      "5600/5600 [==============================] - 369s - loss: -0.7162 - dice_coef: 0.7162   \n",
      "Epoch 30/30\n",
      "5600/5600 [==============================] - 369s - loss: -0.7116 - dice_coef: 0.7116   \n",
      "(2323, 1, 96, 128)\n",
      "Epoch 1/30\n",
      "2528/2500 [==============================] - 167s - loss: -0.5364 - dice_coef: 0.5364   \n",
      "Epoch 2/30\n",
      "2528/2500 [==============================] - 167s - loss: -0.7925 - dice_coef: 0.7925   \n",
      "Epoch 3/30\n",
      "2528/2500 [==============================] - 167s - loss: -0.8090 - dice_coef: 0.8090   \n",
      "Epoch 4/30\n",
      "2528/2500 [==============================] - 167s - loss: -0.8176 - dice_coef: 0.8176   \n",
      "Epoch 5/30\n",
      "2528/2500 [==============================] - 166s - loss: -0.8246 - dice_coef: 0.8246   \n",
      "Epoch 6/30\n",
      "2528/2500 [==============================] - 167s - loss: -0.8299 - dice_coef: 0.8299   \n",
      "Epoch 7/30\n",
      "2528/2500 [==============================] - 166s - loss: -0.8332 - dice_coef: 0.8332   \n",
      "Epoch 8/30\n",
      "2528/2500 [==============================] - 166s - loss: -0.8387 - dice_coef: 0.8387   \n",
      "Epoch 9/30\n",
      "2528/2500 [==============================] - 166s - loss: -0.8388 - dice_coef: 0.8388   \n",
      "Epoch 10/30\n",
      "2528/2500 [==============================] - 166s - loss: -0.8451 - dice_coef: 0.8451   \n",
      "Epoch 11/30\n",
      "2528/2500 [==============================] - 166s - loss: -0.8446 - dice_coef: 0.8446   \n",
      "Epoch 12/30\n",
      "2528/2500 [==============================] - 167s - loss: -0.8455 - dice_coef: 0.8455   \n",
      "Epoch 13/30\n",
      "2528/2500 [==============================] - 166s - loss: -0.8474 - dice_coef: 0.8474   \n",
      "Epoch 14/30\n",
      "2528/2500 [==============================] - 166s - loss: -0.8502 - dice_coef: 0.8502   \n",
      "Epoch 15/30\n",
      "2528/2500 [==============================] - 166s - loss: -0.8511 - dice_coef: 0.8511   \n",
      "Epoch 16/30\n",
      "2528/2500 [==============================] - 166s - loss: -0.8524 - dice_coef: 0.8524   \n",
      "Epoch 17/30\n",
      "2528/2500 [==============================] - 167s - loss: -0.8586 - dice_coef: 0.8586   \n",
      "Epoch 18/30\n",
      "2528/2500 [==============================] - 166s - loss: -0.8583 - dice_coef: 0.8583   \n",
      "Epoch 19/30\n",
      "2528/2500 [==============================] - 166s - loss: -0.8560 - dice_coef: 0.8560   \n",
      "Epoch 20/30\n",
      "2528/2500 [==============================] - 167s - loss: -0.8607 - dice_coef: 0.8607   \n",
      "Epoch 21/30\n",
      "2528/2500 [==============================] - 166s - loss: -0.8640 - dice_coef: 0.8640   \n",
      "Epoch 22/30\n",
      "2528/2500 [==============================] - 166s - loss: -0.8621 - dice_coef: 0.8621   \n",
      "Epoch 23/30\n",
      "2528/2500 [==============================] - 166s - loss: -0.8600 - dice_coef: 0.8600   \n",
      "Epoch 24/30\n",
      "2528/2500 [==============================] - 166s - loss: -0.8632 - dice_coef: 0.8632   \n",
      "Epoch 25/30\n",
      "2528/2500 [==============================] - 166s - loss: -0.8691 - dice_coef: 0.8691   \n",
      "Epoch 26/30\n",
      "2528/2500 [==============================] - 166s - loss: -0.8665 - dice_coef: 0.8665   \n",
      "Epoch 27/30\n",
      "2528/2500 [==============================] - 166s - loss: -0.8676 - dice_coef: 0.8676   \n",
      "Epoch 28/30\n",
      "2528/2500 [==============================] - 166s - loss: -0.8698 - dice_coef: 0.8698   \n",
      "Epoch 29/30\n",
      "2528/2500 [==============================] - 166s - loss: -0.8700 - dice_coef: 0.8700   \n",
      "Epoch 30/30\n",
      "2528/2500 [==============================] - 166s - loss: -0.8732 - dice_coef: 0.8732   \n"
     ]
    },
    {
     "name": "stderr",
     "output_type": "stream",
     "text": [
      "/home/ubuntu/anaconda2/lib/python2.7/site-packages/keras/engine/training.py:1464: UserWarning: Epoch comprised more than `samples_per_epoch` samples, which might affect learning results. Set `samples_per_epoch` correctly to avoid this warning.\n",
      "  warnings.warn('Epoch comprised more than '\n"
     ]
    },
    {
     "data": {
      "text/plain": [
       "<keras.callbacks.History at 0x7ff7ae3c9450>"
      ]
     },
     "execution_count": 7,
     "metadata": {},
     "output_type": "execute_result"
    }
   ],
   "source": [
    "train_gen = generator(X, y)\n",
    "\n",
    "model = None # Clearing the NN.\n",
    "model = models.new_u_net_model()\n",
    "\n",
    "Checkpoint = ModelCheckpoint('unet_full_weights.h5')\n",
    "model.fit_generator(train_gen, 5600, 30,\n",
    "                  callbacks = [Checkpoint])\n",
    "\n",
    "#get data\n",
    "X, y = utils.get_pics(\"./train/*[0-9]_*[0-9].tif\", True)\n",
    "\n",
    "#define CV\n",
    "labels = np.zeros(y.shape[0])\n",
    "for i in range(len(labels)):\n",
    "    if np.sum(y[i, 0, :, :]) > 0:\n",
    "        labels[i] = 1\n",
    "labels = np.expand_dims(labels, 1)\n",
    "\n",
    "train_gen = generator(X, y)\n",
    "\n",
    "model = None # Clearing the NN.\n",
    "model = models.new_u_net_model()\n",
    "    \n",
    "Checkpoint = ModelCheckpoint('unet_positive_full_weights.h5')\n",
    "model.fit_generator(train_gen, 2500, 30,\n",
    "                  callbacks = [Checkpoint])"
   ]
  },
  {
   "cell_type": "code",
   "execution_count": null,
   "metadata": {
    "collapsed": true
   },
   "outputs": [],
   "source": []
  },
  {
   "cell_type": "code",
   "execution_count": 75,
   "metadata": {
    "collapsed": false,
    "scrolled": true
   },
   "outputs": [
    {
     "name": "stdout",
     "output_type": "stream",
     "text": [
      "Running Fold 1 / 2\n",
      "Epoch 1/30\n",
      "2816/2800 [==============================] - 205s - loss: -0.5900 - dice_coef: 0.5900 - val_loss: -0.7723 - val_dice_coef: 0.7723\n",
      "Epoch 2/30\n",
      "2816/2800 [==============================] - 205s - loss: -0.7905 - dice_coef: 0.7905 - val_loss: -0.7930 - val_dice_coef: 0.7930\n",
      "Epoch 3/30\n",
      "2816/2800 [==============================] - 205s - loss: -0.8111 - dice_coef: 0.8111 - val_loss: -0.8003 - val_dice_coef: 0.8003\n",
      "Epoch 4/30\n",
      "2816/2800 [==============================] - 205s - loss: -0.8244 - dice_coef: 0.8244 - val_loss: -0.7793 - val_dice_coef: 0.7793\n",
      "Epoch 5/30\n",
      "2816/2800 [==============================] - 205s - loss: -0.8325 - dice_coef: 0.8325 - val_loss: -0.7944 - val_dice_coef: 0.7944\n",
      "Epoch 6/30\n",
      "2816/2800 [==============================] - 206s - loss: -0.8417 - dice_coef: 0.8417 - val_loss: -0.8037 - val_dice_coef: 0.8037\n",
      "Epoch 7/30\n",
      "2816/2800 [==============================] - 205s - loss: -0.8446 - dice_coef: 0.8446 - val_loss: -0.8023 - val_dice_coef: 0.8023\n",
      "Epoch 8/30\n",
      "2816/2800 [==============================] - 205s - loss: -0.8508 - dice_coef: 0.8508 - val_loss: -0.7920 - val_dice_coef: 0.7920\n",
      "Epoch 9/30\n",
      "2816/2800 [==============================] - 204s - loss: -0.8541 - dice_coef: 0.8541 - val_loss: -0.7946 - val_dice_coef: 0.7946\n",
      "Epoch 10/30\n",
      "2816/2800 [==============================] - 205s - loss: -0.8609 - dice_coef: 0.8609 - val_loss: -0.8046 - val_dice_coef: 0.8046\n",
      "Epoch 11/30\n",
      "2816/2800 [==============================] - 205s - loss: -0.8642 - dice_coef: 0.8642 - val_loss: -0.8103 - val_dice_coef: 0.8103\n",
      "Epoch 12/30\n",
      "2816/2800 [==============================] - 205s - loss: -0.8652 - dice_coef: 0.8652 - val_loss: -0.8043 - val_dice_coef: 0.8043\n",
      "Epoch 13/30\n",
      "2816/2800 [==============================] - 204s - loss: -0.8677 - dice_coef: 0.8677 - val_loss: -0.8099 - val_dice_coef: 0.8099\n",
      "Epoch 14/30\n",
      "2816/2800 [==============================] - 204s - loss: -0.8714 - dice_coef: 0.8714 - val_loss: -0.8049 - val_dice_coef: 0.8049\n",
      "Epoch 15/30\n",
      "2816/2800 [==============================] - 205s - loss: -0.8741 - dice_coef: 0.8741 - val_loss: -0.8035 - val_dice_coef: 0.8035\n",
      "Epoch 16/30\n",
      "2816/2800 [==============================] - 205s - loss: -0.8763 - dice_coef: 0.8763 - val_loss: -0.8061 - val_dice_coef: 0.8061\n",
      "Epoch 17/30\n",
      "2816/2800 [==============================] - 205s - loss: -0.8804 - dice_coef: 0.8804 - val_loss: -0.8098 - val_dice_coef: 0.8098\n",
      "Epoch 18/30\n",
      "2816/2800 [==============================] - 205s - loss: -0.8810 - dice_coef: 0.8810 - val_loss: -0.8100 - val_dice_coef: 0.8100\n",
      "Epoch 19/30\n",
      "2816/2800 [==============================] - 205s - loss: -0.8843 - dice_coef: 0.8843 - val_loss: -0.8119 - val_dice_coef: 0.8119\n",
      "Epoch 20/30\n",
      "2816/2800 [==============================] - 205s - loss: -0.8853 - dice_coef: 0.8853 - val_loss: -0.8062 - val_dice_coef: 0.8062\n",
      "Epoch 21/30\n",
      "2816/2800 [==============================] - 205s - loss: -0.8862 - dice_coef: 0.8862 - val_loss: -0.8043 - val_dice_coef: 0.8043\n",
      "Epoch 22/30\n",
      "1312/2800 [=============>................] - ETA: 97s - loss: -0.8881 - dice_coef: 0.8881"
     ]
    },
    {
     "ename": "KeyboardInterrupt",
     "evalue": "",
     "output_type": "error",
     "traceback": [
      "\u001b[1;31m---------------------------------------------------------------------------\u001b[0m",
      "\u001b[1;31mKeyboardInterrupt\u001b[0m                         Traceback (most recent call last)",
      "\u001b[1;32m<ipython-input-75-805319bd3373>\u001b[0m in \u001b[0;36m<module>\u001b[1;34m()\u001b[0m\n\u001b[0;32m     23\u001b[0m     model.fit_generator(train_gen, 2800, 30,\n\u001b[0;32m     24\u001b[0m                       \u001b[0mcallbacks\u001b[0m \u001b[1;33m=\u001b[0m \u001b[1;33m[\u001b[0m\u001b[0mCheckpoint\u001b[0m\u001b[1;33m]\u001b[0m\u001b[1;33m,\u001b[0m\u001b[1;33m\u001b[0m\u001b[0m\n\u001b[1;32m---> 25\u001b[1;33m                       validation_data = (X[test, :, :, :], y[test, :, :, :]))\n\u001b[0m\u001b[0;32m     26\u001b[0m \u001b[1;33m\u001b[0m\u001b[0m\n\u001b[0;32m     27\u001b[0m \u001b[1;31m#     model = None # Clearing the NN.\u001b[0m\u001b[1;33m\u001b[0m\u001b[1;33m\u001b[0m\u001b[0m\n",
      "\u001b[1;32m/home/ubuntu/anaconda2/lib/python2.7/site-packages/keras/engine/training.pyc\u001b[0m in \u001b[0;36mfit_generator\u001b[1;34m(self, generator, samples_per_epoch, nb_epoch, verbose, callbacks, validation_data, nb_val_samples, class_weight, max_q_size, nb_worker, pickle_safe)\u001b[0m\n\u001b[0;32m   1443\u001b[0m                     outs = self.train_on_batch(x, y,\n\u001b[0;32m   1444\u001b[0m                                                \u001b[0msample_weight\u001b[0m\u001b[1;33m=\u001b[0m\u001b[0msample_weight\u001b[0m\u001b[1;33m,\u001b[0m\u001b[1;33m\u001b[0m\u001b[0m\n\u001b[1;32m-> 1445\u001b[1;33m                                                class_weight=class_weight)\n\u001b[0m\u001b[0;32m   1446\u001b[0m                 \u001b[1;32mexcept\u001b[0m\u001b[1;33m:\u001b[0m\u001b[1;33m\u001b[0m\u001b[0m\n\u001b[0;32m   1447\u001b[0m                     \u001b[0m_stop\u001b[0m\u001b[1;33m.\u001b[0m\u001b[0mset\u001b[0m\u001b[1;33m(\u001b[0m\u001b[1;33m)\u001b[0m\u001b[1;33m\u001b[0m\u001b[0m\n",
      "\u001b[1;32m/home/ubuntu/anaconda2/lib/python2.7/site-packages/keras/engine/training.pyc\u001b[0m in \u001b[0;36mtrain_on_batch\u001b[1;34m(self, x, y, sample_weight, class_weight)\u001b[0m\n\u001b[0;32m   1221\u001b[0m             \u001b[0mins\u001b[0m \u001b[1;33m=\u001b[0m \u001b[0mx\u001b[0m \u001b[1;33m+\u001b[0m \u001b[0my\u001b[0m \u001b[1;33m+\u001b[0m \u001b[0msample_weights\u001b[0m\u001b[1;33m\u001b[0m\u001b[0m\n\u001b[0;32m   1222\u001b[0m         \u001b[0mself\u001b[0m\u001b[1;33m.\u001b[0m\u001b[0m_make_train_function\u001b[0m\u001b[1;33m(\u001b[0m\u001b[1;33m)\u001b[0m\u001b[1;33m\u001b[0m\u001b[0m\n\u001b[1;32m-> 1223\u001b[1;33m         \u001b[0moutputs\u001b[0m \u001b[1;33m=\u001b[0m \u001b[0mself\u001b[0m\u001b[1;33m.\u001b[0m\u001b[0mtrain_function\u001b[0m\u001b[1;33m(\u001b[0m\u001b[0mins\u001b[0m\u001b[1;33m)\u001b[0m\u001b[1;33m\u001b[0m\u001b[0m\n\u001b[0m\u001b[0;32m   1224\u001b[0m         \u001b[1;32mif\u001b[0m \u001b[0mlen\u001b[0m\u001b[1;33m(\u001b[0m\u001b[0moutputs\u001b[0m\u001b[1;33m)\u001b[0m \u001b[1;33m==\u001b[0m \u001b[1;36m1\u001b[0m\u001b[1;33m:\u001b[0m\u001b[1;33m\u001b[0m\u001b[0m\n\u001b[0;32m   1225\u001b[0m             \u001b[1;32mreturn\u001b[0m \u001b[0moutputs\u001b[0m\u001b[1;33m[\u001b[0m\u001b[1;36m0\u001b[0m\u001b[1;33m]\u001b[0m\u001b[1;33m\u001b[0m\u001b[0m\n",
      "\u001b[1;32m/home/ubuntu/anaconda2/lib/python2.7/site-packages/keras/backend/theano_backend.pyc\u001b[0m in \u001b[0;36m__call__\u001b[1;34m(self, inputs)\u001b[0m\n\u001b[0;32m    560\u001b[0m     \u001b[1;32mdef\u001b[0m \u001b[0m__call__\u001b[0m\u001b[1;33m(\u001b[0m\u001b[0mself\u001b[0m\u001b[1;33m,\u001b[0m \u001b[0minputs\u001b[0m\u001b[1;33m)\u001b[0m\u001b[1;33m:\u001b[0m\u001b[1;33m\u001b[0m\u001b[0m\n\u001b[0;32m    561\u001b[0m         \u001b[1;32massert\u001b[0m \u001b[0mtype\u001b[0m\u001b[1;33m(\u001b[0m\u001b[0minputs\u001b[0m\u001b[1;33m)\u001b[0m \u001b[1;32min\u001b[0m \u001b[1;33m{\u001b[0m\u001b[0mlist\u001b[0m\u001b[1;33m,\u001b[0m \u001b[0mtuple\u001b[0m\u001b[1;33m}\u001b[0m\u001b[1;33m\u001b[0m\u001b[0m\n\u001b[1;32m--> 562\u001b[1;33m         \u001b[1;32mreturn\u001b[0m \u001b[0mself\u001b[0m\u001b[1;33m.\u001b[0m\u001b[0mfunction\u001b[0m\u001b[1;33m(\u001b[0m\u001b[1;33m*\u001b[0m\u001b[0minputs\u001b[0m\u001b[1;33m)\u001b[0m\u001b[1;33m\u001b[0m\u001b[0m\n\u001b[0m\u001b[0;32m    563\u001b[0m \u001b[1;33m\u001b[0m\u001b[0m\n\u001b[0;32m    564\u001b[0m \u001b[1;33m\u001b[0m\u001b[0m\n",
      "\u001b[1;32m/home/ubuntu/.local/lib/python2.7/site-packages/theano/compile/function_module.pyc\u001b[0m in \u001b[0;36m__call__\u001b[1;34m(self, *args, **kwargs)\u001b[0m\n\u001b[0;32m    857\u001b[0m         \u001b[0mt0_fn\u001b[0m \u001b[1;33m=\u001b[0m \u001b[0mtime\u001b[0m\u001b[1;33m.\u001b[0m\u001b[0mtime\u001b[0m\u001b[1;33m(\u001b[0m\u001b[1;33m)\u001b[0m\u001b[1;33m\u001b[0m\u001b[0m\n\u001b[0;32m    858\u001b[0m         \u001b[1;32mtry\u001b[0m\u001b[1;33m:\u001b[0m\u001b[1;33m\u001b[0m\u001b[0m\n\u001b[1;32m--> 859\u001b[1;33m             \u001b[0moutputs\u001b[0m \u001b[1;33m=\u001b[0m \u001b[0mself\u001b[0m\u001b[1;33m.\u001b[0m\u001b[0mfn\u001b[0m\u001b[1;33m(\u001b[0m\u001b[1;33m)\u001b[0m\u001b[1;33m\u001b[0m\u001b[0m\n\u001b[0m\u001b[0;32m    860\u001b[0m         \u001b[1;32mexcept\u001b[0m \u001b[0mException\u001b[0m\u001b[1;33m:\u001b[0m\u001b[1;33m\u001b[0m\u001b[0m\n\u001b[0;32m    861\u001b[0m             \u001b[1;32mif\u001b[0m \u001b[0mhasattr\u001b[0m\u001b[1;33m(\u001b[0m\u001b[0mself\u001b[0m\u001b[1;33m.\u001b[0m\u001b[0mfn\u001b[0m\u001b[1;33m,\u001b[0m \u001b[1;34m'position_of_error'\u001b[0m\u001b[1;33m)\u001b[0m\u001b[1;33m:\u001b[0m\u001b[1;33m\u001b[0m\u001b[0m\n",
      "\u001b[1;31mKeyboardInterrupt\u001b[0m: "
     ]
    }
   ],
   "source": [
    "n_folds = 2\n",
    "\n",
    "skf = StratifiedKFold(labels[:,0], n_folds=n_folds, shuffle=True)\n",
    "\n",
    "ES = EarlyStopping(monitor = 'val_loss', patience = 2, mode = 'min')\n",
    "\n",
    "oos_class_preds = np.zeros(y.shape)\n",
    "4\n",
    "#train with Cross validation\n",
    "for i, (train, test) in enumerate(skf):\n",
    "    print \"Running Fold\", i+1, \"/\", n_folds\n",
    "\n",
    "    model = None # Clearing the NN.\n",
    "    model = models.new_u_net_model()\n",
    "\n",
    "    train_datagen = ImageDataGenerator()\n",
    "    train_generator = train_datagen.flow(X[train, :, :, :],y[train, :, :, :], shuffle=True, batch_size=32)\n",
    "    \n",
    "    \n",
    "    train_gen = generator(X[train, :, :, :], y[train, :, :, :])\n",
    "    \n",
    "    Checkpoint = ModelCheckpoint('unet_fold_' + str(i) + '_weights.h5', save_best_only=True)\n",
    "    model.fit_generator(train_gen, 2800, 30,\n",
    "                      callbacks = [Checkpoint],\n",
    "                      validation_data = (X[test, :, :, :], y[test, :, :, :]))\n",
    "    \n",
    "#     model = None # Clearing the NN.\n",
    "#     model = models.u_net_class(u_weights = 'unet_fold_' + str(i) + '_weights.h5')\n",
    "    \n",
    "#     Checkpoint = ModelCheckpoint('class_fold_' + str(i) + '_weights.h5', save_best_only=True)\n",
    "#     model.fit_generator(generator(X[train, :, :, :], labels[train,:]), 3700, 5,\n",
    "#                       callbacks = [Checkpoint],\n",
    "#                       validation_data = (X[test, :, :, :], labels[test,:]),)\n",
    "#                        #class_weight = {0:.41, 1:.59})\n",
    "\n",
    "\n",
    "    model = models.new_u_net_model('unet_fold_' + str(i) + '_weights.h5')\n",
    "    oos_class_preds[test, :,:,:] = model.predict(X[test, :, :, :])"
   ]
  },
  {
   "cell_type": "code",
   "execution_count": 8,
   "metadata": {
    "collapsed": false
   },
   "outputs": [
    {
     "name": "stdout",
     "output_type": "stream",
     "text": [
      "(2323, 1, 96, 128)\n"
     ]
    }
   ],
   "source": [
    "#get data\n",
    "# X, y = utils.get_pics(\"./train/*[0-9]_*[0-9].tif\", True)\n",
    "\n",
    "# #define CV\n",
    "# labels = np.zeros(y.shape[0])\n",
    "# for i in range(len(labels)):\n",
    "#     if np.sum(y[i, 0, :, :]) > 0:\n",
    "#         labels[i] = 1"
   ]
  },
  {
   "cell_type": "code",
   "execution_count": null,
   "metadata": {
    "collapsed": true
   },
   "outputs": [],
   "source": []
  },
  {
   "cell_type": "code",
   "execution_count": 9,
   "metadata": {
    "collapsed": false,
    "scrolled": true
   },
   "outputs": [
    {
     "name": "stdout",
     "output_type": "stream",
     "text": [
      "Running Fold 1 / 3\n"
     ]
    },
    {
     "ename": "KeyboardInterrupt",
     "evalue": "",
     "output_type": "error",
     "traceback": [
      "\u001b[1;31m---------------------------------------------------------------------------\u001b[0m",
      "\u001b[1;31mKeyboardInterrupt\u001b[0m                         Traceback (most recent call last)",
      "\u001b[1;32m<ipython-input-9-e4ce88a00cc1>\u001b[0m in \u001b[0;36m<module>\u001b[1;34m()\u001b[0m\n\u001b[0;32m     20\u001b[0m     model.fit_generator(train_generator, 2000, 10,\n\u001b[0;32m     21\u001b[0m                       \u001b[0mcallbacks\u001b[0m \u001b[1;33m=\u001b[0m \u001b[1;33m[\u001b[0m\u001b[0mCheckpoint\u001b[0m\u001b[1;33m]\u001b[0m\u001b[1;33m,\u001b[0m\u001b[1;33m\u001b[0m\u001b[0m\n\u001b[1;32m---> 22\u001b[1;33m                       validation_data = (X[test, :, :, :], y[test, :, :, :]))\n\u001b[0m\u001b[0;32m     23\u001b[0m \u001b[1;33m\u001b[0m\u001b[0m\n\u001b[0;32m     24\u001b[0m     \u001b[0mmodel\u001b[0m \u001b[1;33m=\u001b[0m \u001b[0mNone\u001b[0m \u001b[1;31m# Clearing the NN.\u001b[0m\u001b[1;33m\u001b[0m\u001b[0m\n",
      "\u001b[1;32m/home/ubuntu/anaconda2/lib/python2.7/site-packages/keras/engine/training.pyc\u001b[0m in \u001b[0;36mfit_generator\u001b[1;34m(self, generator, samples_per_epoch, nb_epoch, verbose, callbacks, validation_data, nb_val_samples, class_weight, max_q_size, nb_worker, pickle_safe)\u001b[0m\n\u001b[0;32m   1343\u001b[0m \u001b[1;33m\u001b[0m\u001b[0m\n\u001b[0;32m   1344\u001b[0m         \u001b[0mdo_validation\u001b[0m \u001b[1;33m=\u001b[0m \u001b[0mbool\u001b[0m\u001b[1;33m(\u001b[0m\u001b[0mvalidation_data\u001b[0m\u001b[1;33m)\u001b[0m\u001b[1;33m\u001b[0m\u001b[0m\n\u001b[1;32m-> 1345\u001b[1;33m         \u001b[0mself\u001b[0m\u001b[1;33m.\u001b[0m\u001b[0m_make_train_function\u001b[0m\u001b[1;33m(\u001b[0m\u001b[1;33m)\u001b[0m\u001b[1;33m\u001b[0m\u001b[0m\n\u001b[0m\u001b[0;32m   1346\u001b[0m         \u001b[1;32mif\u001b[0m \u001b[0mdo_validation\u001b[0m\u001b[1;33m:\u001b[0m\u001b[1;33m\u001b[0m\u001b[0m\n\u001b[0;32m   1347\u001b[0m             \u001b[0mself\u001b[0m\u001b[1;33m.\u001b[0m\u001b[0m_make_test_function\u001b[0m\u001b[1;33m(\u001b[0m\u001b[1;33m)\u001b[0m\u001b[1;33m\u001b[0m\u001b[0m\n",
      "\u001b[1;32m/home/ubuntu/anaconda2/lib/python2.7/site-packages/keras/engine/training.pyc\u001b[0m in \u001b[0;36m_make_train_function\u001b[1;34m(self)\u001b[0m\n\u001b[0;32m    703\u001b[0m                                              \u001b[1;33m[\u001b[0m\u001b[0mself\u001b[0m\u001b[1;33m.\u001b[0m\u001b[0mtotal_loss\u001b[0m\u001b[1;33m]\u001b[0m \u001b[1;33m+\u001b[0m \u001b[0mself\u001b[0m\u001b[1;33m.\u001b[0m\u001b[0mmetrics\u001b[0m\u001b[1;33m,\u001b[0m\u001b[1;33m\u001b[0m\u001b[0m\n\u001b[0;32m    704\u001b[0m                                              \u001b[0mupdates\u001b[0m\u001b[1;33m=\u001b[0m\u001b[0mupdates\u001b[0m\u001b[1;33m,\u001b[0m\u001b[1;33m\u001b[0m\u001b[0m\n\u001b[1;32m--> 705\u001b[1;33m                                              **self._function_kwargs)\n\u001b[0m\u001b[0;32m    706\u001b[0m \u001b[1;33m\u001b[0m\u001b[0m\n\u001b[0;32m    707\u001b[0m     \u001b[1;32mdef\u001b[0m \u001b[0m_make_test_function\u001b[0m\u001b[1;33m(\u001b[0m\u001b[0mself\u001b[0m\u001b[1;33m)\u001b[0m\u001b[1;33m:\u001b[0m\u001b[1;33m\u001b[0m\u001b[0m\n",
      "\u001b[1;32m/home/ubuntu/anaconda2/lib/python2.7/site-packages/keras/backend/theano_backend.pyc\u001b[0m in \u001b[0;36mfunction\u001b[1;34m(inputs, outputs, updates, **kwargs)\u001b[0m\n\u001b[0;32m    570\u001b[0m                 \u001b[0mmsg\u001b[0m \u001b[1;33m=\u001b[0m \u001b[1;34m\"Invalid argument '%s' passed to K.function\"\u001b[0m \u001b[1;33m%\u001b[0m \u001b[0mkey\u001b[0m\u001b[1;33m\u001b[0m\u001b[0m\n\u001b[0;32m    571\u001b[0m                 \u001b[1;32mraise\u001b[0m \u001b[0mValueError\u001b[0m\u001b[1;33m(\u001b[0m\u001b[0mmsg\u001b[0m\u001b[1;33m)\u001b[0m\u001b[1;33m\u001b[0m\u001b[0m\n\u001b[1;32m--> 572\u001b[1;33m     \u001b[1;32mreturn\u001b[0m \u001b[0mFunction\u001b[0m\u001b[1;33m(\u001b[0m\u001b[0minputs\u001b[0m\u001b[1;33m,\u001b[0m \u001b[0moutputs\u001b[0m\u001b[1;33m,\u001b[0m \u001b[0mupdates\u001b[0m\u001b[1;33m=\u001b[0m\u001b[0mupdates\u001b[0m\u001b[1;33m,\u001b[0m \u001b[1;33m**\u001b[0m\u001b[0mkwargs\u001b[0m\u001b[1;33m)\u001b[0m\u001b[1;33m\u001b[0m\u001b[0m\n\u001b[0m\u001b[0;32m    573\u001b[0m \u001b[1;33m\u001b[0m\u001b[0m\n\u001b[0;32m    574\u001b[0m \u001b[1;33m\u001b[0m\u001b[0m\n",
      "\u001b[1;32m/home/ubuntu/anaconda2/lib/python2.7/site-packages/keras/backend/theano_backend.pyc\u001b[0m in \u001b[0;36m__init__\u001b[1;34m(self, inputs, outputs, updates, **kwargs)\u001b[0m\n\u001b[0;32m    556\u001b[0m                                         \u001b[0mallow_input_downcast\u001b[0m\u001b[1;33m=\u001b[0m\u001b[0mTrue\u001b[0m\u001b[1;33m,\u001b[0m\u001b[1;33m\u001b[0m\u001b[0m\n\u001b[0;32m    557\u001b[0m                                         \u001b[0mon_unused_input\u001b[0m\u001b[1;33m=\u001b[0m\u001b[1;34m'warn'\u001b[0m\u001b[1;33m,\u001b[0m\u001b[1;33m\u001b[0m\u001b[0m\n\u001b[1;32m--> 558\u001b[1;33m                                         **kwargs)\n\u001b[0m\u001b[0;32m    559\u001b[0m \u001b[1;33m\u001b[0m\u001b[0m\n\u001b[0;32m    560\u001b[0m     \u001b[1;32mdef\u001b[0m \u001b[0m__call__\u001b[0m\u001b[1;33m(\u001b[0m\u001b[0mself\u001b[0m\u001b[1;33m,\u001b[0m \u001b[0minputs\u001b[0m\u001b[1;33m)\u001b[0m\u001b[1;33m:\u001b[0m\u001b[1;33m\u001b[0m\u001b[0m\n",
      "\u001b[1;32m/home/ubuntu/.local/lib/python2.7/site-packages/theano/compile/function.pyc\u001b[0m in \u001b[0;36mfunction\u001b[1;34m(inputs, outputs, mode, updates, givens, no_default_updates, accept_inplace, name, rebuild_strict, allow_input_downcast, profile, on_unused_input)\u001b[0m\n\u001b[0;32m    315\u001b[0m                    \u001b[0mon_unused_input\u001b[0m\u001b[1;33m=\u001b[0m\u001b[0mon_unused_input\u001b[0m\u001b[1;33m,\u001b[0m\u001b[1;33m\u001b[0m\u001b[0m\n\u001b[0;32m    316\u001b[0m                    \u001b[0mprofile\u001b[0m\u001b[1;33m=\u001b[0m\u001b[0mprofile\u001b[0m\u001b[1;33m,\u001b[0m\u001b[1;33m\u001b[0m\u001b[0m\n\u001b[1;32m--> 317\u001b[1;33m                    output_keys=output_keys)\n\u001b[0m\u001b[0;32m    318\u001b[0m     \u001b[1;31m# We need to add the flag check_aliased inputs if we have any mutable or\u001b[0m\u001b[1;33m\u001b[0m\u001b[1;33m\u001b[0m\u001b[0m\n\u001b[0;32m    319\u001b[0m     \u001b[1;31m# borrowed used defined inputs\u001b[0m\u001b[1;33m\u001b[0m\u001b[1;33m\u001b[0m\u001b[0m\n",
      "\u001b[1;32m/home/ubuntu/.local/lib/python2.7/site-packages/theano/compile/pfunc.pyc\u001b[0m in \u001b[0;36mpfunc\u001b[1;34m(params, outputs, mode, updates, givens, no_default_updates, accept_inplace, name, rebuild_strict, allow_input_downcast, profile, on_unused_input, output_keys)\u001b[0m\n\u001b[0;32m    459\u001b[0m                          \u001b[0maccept_inplace\u001b[0m\u001b[1;33m=\u001b[0m\u001b[0maccept_inplace\u001b[0m\u001b[1;33m,\u001b[0m \u001b[0mname\u001b[0m\u001b[1;33m=\u001b[0m\u001b[0mname\u001b[0m\u001b[1;33m,\u001b[0m\u001b[1;33m\u001b[0m\u001b[0m\n\u001b[0;32m    460\u001b[0m                          \u001b[0mprofile\u001b[0m\u001b[1;33m=\u001b[0m\u001b[0mprofile\u001b[0m\u001b[1;33m,\u001b[0m \u001b[0mon_unused_input\u001b[0m\u001b[1;33m=\u001b[0m\u001b[0mon_unused_input\u001b[0m\u001b[1;33m,\u001b[0m\u001b[1;33m\u001b[0m\u001b[0m\n\u001b[1;32m--> 461\u001b[1;33m                          output_keys=output_keys)\n\u001b[0m\u001b[0;32m    462\u001b[0m \u001b[1;33m\u001b[0m\u001b[0m\n\u001b[0;32m    463\u001b[0m \u001b[1;33m\u001b[0m\u001b[0m\n",
      "\u001b[1;32m/home/ubuntu/.local/lib/python2.7/site-packages/theano/compile/function_module.pyc\u001b[0m in \u001b[0;36morig_function\u001b[1;34m(inputs, outputs, mode, accept_inplace, name, profile, on_unused_input, output_keys)\u001b[0m\n\u001b[0;32m   1769\u001b[0m                    \u001b[0mprofile\u001b[0m\u001b[1;33m=\u001b[0m\u001b[0mprofile\u001b[0m\u001b[1;33m,\u001b[0m\u001b[1;33m\u001b[0m\u001b[0m\n\u001b[0;32m   1770\u001b[0m                    \u001b[0mon_unused_input\u001b[0m\u001b[1;33m=\u001b[0m\u001b[0mon_unused_input\u001b[0m\u001b[1;33m,\u001b[0m\u001b[1;33m\u001b[0m\u001b[0m\n\u001b[1;32m-> 1771\u001b[1;33m                    \u001b[0moutput_keys\u001b[0m\u001b[1;33m=\u001b[0m\u001b[0moutput_keys\u001b[0m\u001b[1;33m)\u001b[0m\u001b[1;33m.\u001b[0m\u001b[0mcreate\u001b[0m\u001b[1;33m(\u001b[0m\u001b[1;33m\u001b[0m\u001b[0m\n\u001b[0m\u001b[0;32m   1772\u001b[0m             defaults)\n\u001b[0;32m   1773\u001b[0m \u001b[1;33m\u001b[0m\u001b[0m\n",
      "\u001b[1;32m/home/ubuntu/.local/lib/python2.7/site-packages/theano/compile/function_module.pyc\u001b[0m in \u001b[0;36m__init__\u001b[1;34m(self, inputs, outputs, mode, accept_inplace, function_builder, profile, on_unused_input, fgraph, output_keys)\u001b[0m\n\u001b[0;32m   1408\u001b[0m \u001b[1;33m\u001b[0m\u001b[0m\n\u001b[0;32m   1409\u001b[0m         \u001b[1;31m# Check if some input variables are unused\u001b[0m\u001b[1;33m\u001b[0m\u001b[1;33m\u001b[0m\u001b[0m\n\u001b[1;32m-> 1410\u001b[1;33m         \u001b[0mself\u001b[0m\u001b[1;33m.\u001b[0m\u001b[0m_check_unused_inputs\u001b[0m\u001b[1;33m(\u001b[0m\u001b[0minputs\u001b[0m\u001b[1;33m,\u001b[0m \u001b[0moutputs\u001b[0m\u001b[1;33m,\u001b[0m \u001b[0mon_unused_input\u001b[0m\u001b[1;33m)\u001b[0m\u001b[1;33m\u001b[0m\u001b[0m\n\u001b[0m\u001b[0;32m   1411\u001b[0m \u001b[1;33m\u001b[0m\u001b[0m\n\u001b[0;32m   1412\u001b[0m         \u001b[1;31m# Make a list of (SymbolicInput|SymblicInputKits, indices,\u001b[0m\u001b[1;33m\u001b[0m\u001b[1;33m\u001b[0m\u001b[0m\n",
      "\u001b[1;32m/home/ubuntu/.local/lib/python2.7/site-packages/theano/compile/function_module.pyc\u001b[0m in \u001b[0;36m_check_unused_inputs\u001b[1;34m(self, inputs, outputs, on_unused_input)\u001b[0m\n\u001b[0;32m   1526\u001b[0m             ([o.variable for o in outputs] +\n\u001b[0;32m   1527\u001b[0m              [i.update for i in inputs if getattr(i, 'update', False)]),\n\u001b[1;32m-> 1528\u001b[1;33m             blockers=[i.variable for i in inputs])\n\u001b[0m\u001b[0;32m   1529\u001b[0m \u001b[1;33m\u001b[0m\u001b[0m\n\u001b[0;32m   1530\u001b[0m         msg = (\"theano.function was asked to create a function computing \"\n",
      "\u001b[1;32m/home/ubuntu/.local/lib/python2.7/site-packages/theano/gof/graph.pyc\u001b[0m in \u001b[0;36mancestors\u001b[1;34m(variable_list, blockers)\u001b[0m\n\u001b[0;32m    674\u001b[0m         \u001b[1;32mif\u001b[0m \u001b[0mr\u001b[0m\u001b[1;33m.\u001b[0m\u001b[0mowner\u001b[0m \u001b[1;32mand\u001b[0m \u001b[1;33m(\u001b[0m\u001b[1;32mnot\u001b[0m \u001b[0mblockers\u001b[0m \u001b[1;32mor\u001b[0m \u001b[0mr\u001b[0m \u001b[1;32mnot\u001b[0m \u001b[1;32min\u001b[0m \u001b[0mblockers\u001b[0m\u001b[1;33m)\u001b[0m\u001b[1;33m:\u001b[0m\u001b[1;33m\u001b[0m\u001b[0m\n\u001b[0;32m    675\u001b[0m             \u001b[1;32mreturn\u001b[0m \u001b[0mreversed\u001b[0m\u001b[1;33m(\u001b[0m\u001b[0mr\u001b[0m\u001b[1;33m.\u001b[0m\u001b[0mowner\u001b[0m\u001b[1;33m.\u001b[0m\u001b[0minputs\u001b[0m\u001b[1;33m)\u001b[0m\u001b[1;33m\u001b[0m\u001b[0m\n\u001b[1;32m--> 676\u001b[1;33m     \u001b[0mdfs_variables\u001b[0m \u001b[1;33m=\u001b[0m \u001b[0mstack_search\u001b[0m\u001b[1;33m(\u001b[0m\u001b[0mdeque\u001b[0m\u001b[1;33m(\u001b[0m\u001b[0mvariable_list\u001b[0m\u001b[1;33m)\u001b[0m\u001b[1;33m,\u001b[0m \u001b[0mexpand\u001b[0m\u001b[1;33m,\u001b[0m \u001b[1;34m'dfs'\u001b[0m\u001b[1;33m)\u001b[0m\u001b[1;33m\u001b[0m\u001b[0m\n\u001b[0m\u001b[0;32m    677\u001b[0m     \u001b[1;32mreturn\u001b[0m \u001b[0mdfs_variables\u001b[0m\u001b[1;33m\u001b[0m\u001b[0m\n\u001b[0;32m    678\u001b[0m \u001b[1;33m\u001b[0m\u001b[0m\n",
      "\u001b[1;32m/home/ubuntu/.local/lib/python2.7/site-packages/theano/gof/graph.pyc\u001b[0m in \u001b[0;36mstack_search\u001b[1;34m(start, expand, mode, build_inv)\u001b[0m\n\u001b[0;32m    642\u001b[0m             \u001b[0mrval_list\u001b[0m\u001b[1;33m.\u001b[0m\u001b[0mappend\u001b[0m\u001b[1;33m(\u001b[0m\u001b[0ml\u001b[0m\u001b[1;33m)\u001b[0m\u001b[1;33m\u001b[0m\u001b[0m\n\u001b[0;32m    643\u001b[0m             \u001b[0mrval_set\u001b[0m\u001b[1;33m.\u001b[0m\u001b[0madd\u001b[0m\u001b[1;33m(\u001b[0m\u001b[0mid\u001b[0m\u001b[1;33m(\u001b[0m\u001b[0ml\u001b[0m\u001b[1;33m)\u001b[0m\u001b[1;33m)\u001b[0m\u001b[1;33m\u001b[0m\u001b[0m\n\u001b[1;32m--> 644\u001b[1;33m             \u001b[0mexpand_l\u001b[0m \u001b[1;33m=\u001b[0m \u001b[0mexpand\u001b[0m\u001b[1;33m(\u001b[0m\u001b[0ml\u001b[0m\u001b[1;33m)\u001b[0m\u001b[1;33m\u001b[0m\u001b[0m\n\u001b[0m\u001b[0;32m    645\u001b[0m             \u001b[1;32mif\u001b[0m \u001b[0mexpand_l\u001b[0m\u001b[1;33m:\u001b[0m\u001b[1;33m\u001b[0m\u001b[0m\n\u001b[0;32m    646\u001b[0m                 \u001b[1;32mif\u001b[0m \u001b[0mbuild_inv\u001b[0m\u001b[1;33m:\u001b[0m\u001b[1;33m\u001b[0m\u001b[0m\n",
      "\u001b[1;32m/home/ubuntu/.local/lib/python2.7/site-packages/theano/gof/graph.pyc\u001b[0m in \u001b[0;36mexpand\u001b[1;34m(r)\u001b[0m\n\u001b[0;32m    672\u001b[0m     \"\"\"\n\u001b[0;32m    673\u001b[0m     \u001b[1;32mdef\u001b[0m \u001b[0mexpand\u001b[0m\u001b[1;33m(\u001b[0m\u001b[0mr\u001b[0m\u001b[1;33m)\u001b[0m\u001b[1;33m:\u001b[0m\u001b[1;33m\u001b[0m\u001b[0m\n\u001b[1;32m--> 674\u001b[1;33m         \u001b[1;32mif\u001b[0m \u001b[0mr\u001b[0m\u001b[1;33m.\u001b[0m\u001b[0mowner\u001b[0m \u001b[1;32mand\u001b[0m \u001b[1;33m(\u001b[0m\u001b[1;32mnot\u001b[0m \u001b[0mblockers\u001b[0m \u001b[1;32mor\u001b[0m \u001b[0mr\u001b[0m \u001b[1;32mnot\u001b[0m \u001b[1;32min\u001b[0m \u001b[0mblockers\u001b[0m\u001b[1;33m)\u001b[0m\u001b[1;33m:\u001b[0m\u001b[1;33m\u001b[0m\u001b[0m\n\u001b[0m\u001b[0;32m    675\u001b[0m             \u001b[1;32mreturn\u001b[0m \u001b[0mreversed\u001b[0m\u001b[1;33m(\u001b[0m\u001b[0mr\u001b[0m\u001b[1;33m.\u001b[0m\u001b[0mowner\u001b[0m\u001b[1;33m.\u001b[0m\u001b[0minputs\u001b[0m\u001b[1;33m)\u001b[0m\u001b[1;33m\u001b[0m\u001b[0m\n\u001b[0;32m    676\u001b[0m     \u001b[0mdfs_variables\u001b[0m \u001b[1;33m=\u001b[0m \u001b[0mstack_search\u001b[0m\u001b[1;33m(\u001b[0m\u001b[0mdeque\u001b[0m\u001b[1;33m(\u001b[0m\u001b[0mvariable_list\u001b[0m\u001b[1;33m)\u001b[0m\u001b[1;33m,\u001b[0m \u001b[0mexpand\u001b[0m\u001b[1;33m,\u001b[0m \u001b[1;34m'dfs'\u001b[0m\u001b[1;33m)\u001b[0m\u001b[1;33m\u001b[0m\u001b[0m\n",
      "\u001b[1;31mKeyboardInterrupt\u001b[0m: "
     ]
    }
   ],
   "source": [
    "n_folds = 3\n",
    "\n",
    "skf = StratifiedKFold(labels, n_folds=n_folds, shuffle=True)\n",
    "\n",
    "ES = EarlyStopping(monitor = 'val_loss', patience = 2, mode = 'min')\n",
    "\n",
    "oos_preds = np.zeros(y.shape)\n",
    "\n",
    "#train with Cross validation\n",
    "for i, (train, test) in enumerate(skf):\n",
    "    print \"Running Fold\", i+1, \"/\", n_folds\n",
    "\n",
    "    model = None # Clearing the NN.\n",
    "    model = models.u_net_model()\n",
    "\n",
    "    train_datagen = ImageDataGenerator()\n",
    "    train_generator = train_datagen.flow(X[train, :, :, :],y[train, :, :, :], shuffle=True, batch_size=32)\n",
    "    \n",
    "    Checkpoint = ModelCheckpoint('unet_fold_' + str(i) + '_weights.h5', save_best_only=True)\n",
    "    model.fit_generator(train_generator, 2000, 10,\n",
    "                      callbacks = [Checkpoint],\n",
    "                      validation_data = (X[test, :, :, :], y[test, :, :, :]))\n",
    "    \n",
    "    model = None # Clearing the NN.\n",
    "    model = models.double_input_model(u_weights = 'unet_fold_' + str(i) + '_weights.h5')\n",
    "    \n",
    "    Checkpoint = ModelCheckpoint('all_pos_fold_' + str(i) + '_weights.h5', save_best_only=True)\n",
    "    model.fit_generator(train_generator, 2000, 5,\n",
    "                      callbacks = [Checkpoint],\n",
    "                      validation_data = (X[test, :, :, :], y[test, :, :, :]))\n",
    "\n",
    "\n",
    "    model = models.double_input_model('double_fold_' + str(i) + '_weights.h5')\n",
    "    oos_preds[test, :, :, :] = model.predict(X[test, :, :, :])"
   ]
  },
  {
   "cell_type": "code",
   "execution_count": 9,
   "metadata": {
    "collapsed": false
   },
   "outputs": [],
   "source": [
    "model = models.new_u_net_model('unet_fold_0_weights.h5')\n",
    "oos_preds = model.predict(X)"
   ]
  },
  {
   "cell_type": "code",
   "execution_count": 72,
   "metadata": {
    "collapsed": false
   },
   "outputs": [
    {
     "data": {
      "image/png": "[encoded data removed]",
      "text/plain": [
       "<matplotlib.figure.Figure at 0x7fcc87bf6750>"
      ]
     },
     "metadata": {},
     "output_type": "display_data"
    },
    {
     "name": "stdout",
     "output_type": "stream",
     "text": [
      "0.991319\n",
      "483.0\n",
      "310\n"
     ]
    },
    {
     "data": {
      "image/png": "[encoded data removed]",
      "text/plain": [
       "<matplotlib.figure.Figure at 0x7fcc86217f10>"
      ]
     },
     "metadata": {},
     "output_type": "display_data"
    },
    {
     "data": {
      "image/png": "[encoded data removed]",
      "text/plain": [
       "<matplotlib.figure.Figure at 0x7fcc9b8bb0d0>"
      ]
     },
     "metadata": {},
     "output_type": "display_data"
    }
   ],
   "source": [
    "i = 457\n",
    "\n",
    "plt.imshow(X_pred[i,0,:,:])\n",
    "plt.show()\n",
    "\n",
    "print meta_out[i]\n",
    "\n",
    "print np.sum(X_pred[i,0,:,:])\n",
    "\n",
    "print np.sum(y[i,0,:,:])\n",
    "plt.imshow(y[i,0,:,:])\n",
    "plt.show()\n",
    "\n",
    "plt.imshow(X[i,0,:,:])\n",
    "plt.show()"
   ]
  },
  {
   "cell_type": "code",
   "execution_count": null,
   "metadata": {
    "collapsed": true
   },
   "outputs": [],
   "source": []
  },
  {
   "cell_type": "code",
   "execution_count": 25,
   "metadata": {
    "collapsed": false
   },
   "outputs": [],
   "source": [
    "model = models.new_u_net_model('unet_positive_full_weights.h5')\n",
    "david = model.predict(X)"
   ]
  },
  {
   "cell_type": "code",
   "execution_count": 26,
   "metadata": {
    "collapsed": true
   },
   "outputs": [],
   "source": [
    "X_pred = 1.0 * (david > .99)"
   ]
  },
  {
   "cell_type": "code",
   "execution_count": 6,
   "metadata": {
    "collapsed": false,
    "scrolled": true
   },
   "outputs": [
    {
     "name": "stderr",
     "output_type": "stream",
     "text": [
      "/home/ubuntu/anaconda2/lib/python2.7/site-packages/keras/backend/theano_backend.py:558: UserWarning: theano.function was asked to create a function computing outputs given certain inputs, but the provided input variable at index 1 is not part of the computational graph needed to compute the outputs: keras_learning_phase.\n",
      "To make this warning into an error, you can pass the parameter on_unused_input='raise' to theano.function. To disable it completely, use on_unused_input='ignore'.\n",
      "  **kwargs)\n"
     ]
    }
   ],
   "source": [
    "model = models.u_net_class('class_full_weights.h5')\n",
    "label_preds1 = model.predict(X)\n",
    "\n",
    "model = models.make_classifier('simple_fold_0_weights.h5')\n",
    "label_preds2 = model.predict(X)"
   ]
  },
  {
   "cell_type": "code",
   "execution_count": 7,
   "metadata": {
    "collapsed": true
   },
   "outputs": [],
   "source": [
    "vgg_out = np.load('/mnt/weights/vgg_preds.npy')\n",
    "bst = xgb.Booster({'nthread':4})\n",
    "bst.load_model('xgb.model')\n",
    "xgb_preds = bst.predict(xgb.DMatrix(vgg_out))"
   ]
  },
  {
   "cell_type": "code",
   "execution_count": 9,
   "metadata": {
    "collapsed": false
   },
   "outputs": [],
   "source": [
    "meta_in = np.transpose(np.vstack((label_preds2[:,0], label_preds1[:,0], xgb_preds)))\n",
    "\n",
    "bst = xgb.Booster({'nthread':4})\n",
    "bst.load_model('meta.model')\n",
    "meta_out = bst.predict(xgb.DMatrix(meta_in))"
   ]
  },
  {
   "cell_type": "code",
   "execution_count": 15,
   "metadata": {
    "collapsed": false
   },
   "outputs": [
    {
     "data": {
      "text/plain": [
       "4636"
      ]
     },
     "execution_count": 15,
     "metadata": {},
     "output_type": "execute_result"
    }
   ],
   "source": [
    "np.sum((label_preds1[:,0] >.5) == (xgb_preds > .5))"
   ]
  },
  {
   "cell_type": "code",
   "execution_count": 16,
   "metadata": {
    "collapsed": false
   },
   "outputs": [
    {
     "data": {
      "text/plain": [
       "4510"
      ]
     },
     "execution_count": 16,
     "metadata": {},
     "output_type": "execute_result"
    }
   ],
   "source": [
    "np.sum((label_preds2[:,0] >.5) == (xgb_preds > .5))"
   ]
  },
  {
   "cell_type": "code",
   "execution_count": 18,
   "metadata": {
    "collapsed": false
   },
   "outputs": [
    {
     "data": {
      "text/plain": [
       "4797"
      ]
     },
     "execution_count": 18,
     "metadata": {},
     "output_type": "execute_result"
    }
   ],
   "source": [
    "np.sum((label_preds2[:,0] >.5) == (label_preds1[:,0] >.5))"
   ]
  },
  {
   "cell_type": "code",
   "execution_count": 10,
   "metadata": {
    "collapsed": false
   },
   "outputs": [],
   "source": [
    "meta_in = np.transpose(np.vstack((label_preds2[:,0], label_preds1[:,0], xgb_preds)))"
   ]
  },
  {
   "cell_type": "code",
   "execution_count": 10,
   "metadata": {
    "collapsed": false
   },
   "outputs": [
    {
     "name": "stderr",
     "output_type": "stream",
     "text": [
      "[0]\teval-error:0.187611\ttrain-error:0.175542\n",
      "[1]\teval-error:0.192920\ttrain-error:0.161933\n",
      "[2]\teval-error:0.192920\ttrain-error:0.160355\n",
      "[3]\teval-error:0.191150\ttrain-error:0.161933\n",
      "[4]\teval-error:0.196460\ttrain-error:0.163511\n",
      "[5]\teval-error:0.189381\ttrain-error:0.161933\n",
      "[6]\teval-error:0.194690\ttrain-error:0.163905\n",
      "[7]\teval-error:0.196460\ttrain-error:0.165878\n",
      "[8]\teval-error:0.198230\ttrain-error:0.166272\n",
      "[9]\teval-error:0.196460\ttrain-error:0.165680\n",
      "[10]\teval-error:0.194690\ttrain-error:0.163905\n",
      "[11]\teval-error:0.196460\ttrain-error:0.164497\n",
      "[12]\teval-error:0.194690\ttrain-error:0.163708\n",
      "[13]\teval-error:0.196460\ttrain-error:0.162130\n",
      "[14]\teval-error:0.194690\ttrain-error:0.161538\n",
      "[15]\teval-error:0.194690\ttrain-error:0.162130\n",
      "[16]\teval-error:0.196460\ttrain-error:0.162525\n",
      "[17]\teval-error:0.194690\ttrain-error:0.161736\n",
      "[18]\teval-error:0.192920\ttrain-error:0.161933\n",
      "[19]\teval-error:0.194690\ttrain-error:0.162327\n",
      "[20]\teval-error:0.194690\ttrain-error:0.162327\n",
      "[21]\teval-error:0.196460\ttrain-error:0.162130\n",
      "[22]\teval-error:0.192920\ttrain-error:0.161538\n",
      "[23]\teval-error:0.194690\ttrain-error:0.161144\n",
      "[24]\teval-error:0.194690\ttrain-error:0.161144\n",
      "[25]\teval-error:0.194690\ttrain-error:0.161144\n",
      "[26]\teval-error:0.194690\ttrain-error:0.161341\n",
      "[27]\teval-error:0.192920\ttrain-error:0.162130\n",
      "[28]\teval-error:0.192920\ttrain-error:0.162130\n",
      "[29]\teval-error:0.192920\ttrain-error:0.162327\n",
      "[30]\teval-error:0.192920\ttrain-error:0.162130\n",
      "[31]\teval-error:0.192920\ttrain-error:0.162130\n",
      "[32]\teval-error:0.192920\ttrain-error:0.161538\n",
      "[33]\teval-error:0.192920\ttrain-error:0.161933\n",
      "[34]\teval-error:0.192920\ttrain-error:0.161341\n",
      "[35]\teval-error:0.192920\ttrain-error:0.161341\n",
      "[36]\teval-error:0.192920\ttrain-error:0.161341\n",
      "[37]\teval-error:0.192920\ttrain-error:0.161341\n",
      "[38]\teval-error:0.192920\ttrain-error:0.161736\n",
      "[39]\teval-error:0.192920\ttrain-error:0.161341\n",
      "[40]\teval-error:0.192920\ttrain-error:0.161144\n",
      "[41]\teval-error:0.192920\ttrain-error:0.161144\n",
      "[42]\teval-error:0.192920\ttrain-error:0.161341\n",
      "[43]\teval-error:0.192920\ttrain-error:0.161144\n",
      "[44]\teval-error:0.192920\ttrain-error:0.160947\n",
      "[45]\teval-error:0.192920\ttrain-error:0.161144\n",
      "[46]\teval-error:0.192920\ttrain-error:0.160947\n",
      "[47]\teval-error:0.191150\ttrain-error:0.160552\n",
      "[48]\teval-error:0.191150\ttrain-error:0.160552\n",
      "[49]\teval-error:0.191150\ttrain-error:0.160552\n",
      "[0]\teval-error:0.182301\ttrain-error:0.176134\n"
     ]
    },
    {
     "name": "stdout",
     "output_type": "stream",
     "text": [
      "0.808849557522\n",
      "0.833628318584"
     ]
    },
    {
     "name": "stderr",
     "output_type": "stream",
     "text": [
      "[1]\teval-error:0.171681\ttrain-error:0.166272\n",
      "[2]\teval-error:0.169912\ttrain-error:0.166469\n",
      "[3]\teval-error:0.171681\ttrain-error:0.166272\n",
      "[4]\teval-error:0.166372\ttrain-error:0.167850\n",
      "[5]\teval-error:0.169912\ttrain-error:0.167653\n",
      "[6]\teval-error:0.173451\ttrain-error:0.168245\n",
      "[7]\teval-error:0.173451\ttrain-error:0.169034\n",
      "[8]\teval-error:0.173451\ttrain-error:0.169822\n",
      "[9]\teval-error:0.175221\ttrain-error:0.168836\n",
      "[10]\teval-error:0.173451\ttrain-error:0.168836\n",
      "[11]\teval-error:0.173451\ttrain-error:0.168639\n",
      "[12]\teval-error:0.171681\ttrain-error:0.169231\n",
      "[13]\teval-error:0.166372\ttrain-error:0.167850\n",
      "[14]\teval-error:0.166372\ttrain-error:0.168245\n",
      "[15]\teval-error:0.168142\ttrain-error:0.167258\n",
      "[16]\teval-error:0.168142\ttrain-error:0.167653\n",
      "[17]\teval-error:0.168142\ttrain-error:0.167850\n",
      "[18]\teval-error:0.169912\ttrain-error:0.168245\n",
      "[19]\teval-error:0.168142\ttrain-error:0.168245\n",
      "[20]\teval-error:0.168142\ttrain-error:0.167258\n",
      "[21]\teval-error:0.168142\ttrain-error:0.168047\n",
      "[22]\teval-error:0.166372\ttrain-error:0.167061\n",
      "[23]\teval-error:0.168142\ttrain-error:0.167061\n",
      "[24]\teval-error:0.168142\ttrain-error:0.167061\n",
      "[25]\teval-error:0.168142\ttrain-error:0.167061\n",
      "[26]\teval-error:0.168142\ttrain-error:0.167061\n",
      "[27]\teval-error:0.168142\ttrain-error:0.167850\n",
      "[28]\teval-error:0.164602\ttrain-error:0.168047\n",
      "[29]\teval-error:0.164602\ttrain-error:0.168047\n",
      "[30]\teval-error:0.164602\ttrain-error:0.168047\n",
      "[31]\teval-error:0.164602\ttrain-error:0.167456\n",
      "[32]\teval-error:0.164602\ttrain-error:0.167456\n",
      "[33]\teval-error:0.164602\ttrain-error:0.167653\n",
      "[34]\teval-error:0.164602\ttrain-error:0.167653\n",
      "[35]\teval-error:0.164602\ttrain-error:0.167653\n",
      "[36]\teval-error:0.164602\ttrain-error:0.167653\n",
      "[37]\teval-error:0.166372\ttrain-error:0.167850\n",
      "[38]\teval-error:0.166372\ttrain-error:0.167653\n",
      "[39]\teval-error:0.166372\ttrain-error:0.167456\n",
      "[40]\teval-error:0.169912\ttrain-error:0.166469\n",
      "[41]\teval-error:0.168142\ttrain-error:0.167061\n",
      "[42]\teval-error:0.166372\ttrain-error:0.166075\n",
      "[43]\teval-error:0.166372\ttrain-error:0.165878\n",
      "[44]\teval-error:0.166372\ttrain-error:0.165878\n",
      "[45]\teval-error:0.166372\ttrain-error:0.166075\n",
      "[46]\teval-error:0.166372\ttrain-error:0.166272\n",
      "[47]\teval-error:0.166372\ttrain-error:0.166075\n",
      "[48]\teval-error:0.166372\ttrain-error:0.166075\n",
      "[49]\teval-error:0.166372\ttrain-error:0.166272\n",
      "[0]\teval-error:0.166667\ttrain-error:0.179057\n",
      "[1]\teval-error:0.154255\ttrain-error:0.167817\n",
      "[2]\teval-error:0.154255\ttrain-error:0.168803\n",
      "[3]\teval-error:0.154255\ttrain-error:0.167225\n",
      "[4]\teval-error:0.154255\ttrain-error:0.168014\n",
      "[5]\teval-error:0.154255\ttrain-error:0.168803\n",
      "[6]\teval-error:0.159574\ttrain-error:0.170381\n",
      "[7]\teval-error:0.157801\ttrain-error:0.171169\n",
      "[8]\teval-error:0.150709\ttrain-error:0.172550\n",
      "[9]\teval-error:0.157801\ttrain-error:0.171169\n",
      "[10]\teval-error:0.159574\ttrain-error:0.168409\n",
      "[11]\teval-error:0.163121\ttrain-error:0.169395\n",
      "[12]\teval-error:0.159574\ttrain-error:0.168606\n",
      "[13]\teval-error:0.156028\ttrain-error:0.169592\n",
      "[14]\teval-error:0.157801\ttrain-error:0.168014\n",
      "[15]\teval-error:0.157801\ttrain-error:0.166831\n",
      "[16]\teval-error:0.159574\ttrain-error:0.167225\n",
      "[17]\teval-error:0.157801\ttrain-error:0.167620\n",
      "[18]\teval-error:0.157801\ttrain-error:0.167817\n",
      "[19]\teval-error:0.161348\ttrain-error:0.167620\n",
      "[20]\teval-error:0.159574\ttrain-error:0.167817\n",
      "[21]\teval-error:0.161348\ttrain-error:0.167423\n",
      "[22]\teval-error:0.161348\ttrain-error:0.167225\n",
      "[23]\teval-error:0.157801\ttrain-error:0.167028\n",
      "[24]\teval-error:0.159574\ttrain-error:0.167028\n",
      "[25]\teval-error:0.159574\ttrain-error:0.167028\n",
      "[26]\teval-error:0.161348\ttrain-error:0.166831\n",
      "[27]\teval-error:0.161348\ttrain-error:0.167028\n",
      "[28]\teval-error:0.161348\ttrain-error:0.166239\n",
      "[29]\teval-error:0.161348\ttrain-error:0.166239\n",
      "[30]\teval-error:0.161348\ttrain-error:0.166042\n",
      "[31]\teval-error:0.161348\ttrain-error:0.166042\n",
      "[32]\teval-error:0.161348\ttrain-error:0.166042\n",
      "[33]\teval-error:0.159574\ttrain-error:0.165648\n",
      "[34]\teval-error:0.161348\ttrain-error:0.165648\n",
      "[35]\teval-error:0.161348\ttrain-error:0.165648\n",
      "[36]\teval-error:0.161348\ttrain-error:0.165845\n",
      "[37]\teval-error:0.159574\ttrain-error:0.166042\n",
      "[38]\teval-error:0.159574\ttrain-error:0.166042\n",
      "[39]\teval-error:0.163121\ttrain-error:0.166042\n",
      "[40]\teval-error:0.161348\ttrain-error:0.165648\n",
      "[41]\teval-error:0.161348\ttrain-error:0.166042\n",
      "[42]\teval-error:0.157801\ttrain-error:0.164267\n",
      "[43]\teval-error:0.159574\ttrain-error:0.164465\n",
      "[44]\teval-error:0.159574\ttrain-error:0.164267\n",
      "[45]\teval-error:0.159574\ttrain-error:0.164465\n",
      "[46]\teval-error:0.157801\ttrain-error:0.163873\n",
      "[47]\teval-error:0.157801\ttrain-error:0.164070\n",
      "[48]\teval-error:0.161348\ttrain-error:0.164267\n",
      "[49]\teval-error:0.161348\ttrain-error:0.164267\n"
     ]
    },
    {
     "name": "stdout",
     "output_type": "stream",
     "text": [
      "\n",
      "0.83865248227\n",
      "0.831261101243"
     ]
    },
    {
     "name": "stderr",
     "output_type": "stream",
     "text": [
      "[0]\teval-error:0.197158\ttrain-error:0.186120\n",
      "[1]\teval-error:0.174067\ttrain-error:0.166798\n",
      "[2]\teval-error:0.168739\ttrain-error:0.166798\n",
      "[3]\teval-error:0.166963\ttrain-error:0.164432\n",
      "[4]\teval-error:0.172291\ttrain-error:0.166798\n",
      "[5]\teval-error:0.163410\ttrain-error:0.168573\n",
      "[6]\teval-error:0.163410\ttrain-error:0.167784\n",
      "[7]\teval-error:0.165186\ttrain-error:0.168375\n",
      "[8]\teval-error:0.168739\ttrain-error:0.168573\n",
      "[9]\teval-error:0.166963\ttrain-error:0.170150\n",
      "[10]\teval-error:0.166963\ttrain-error:0.167784\n",
      "[11]\teval-error:0.172291\ttrain-error:0.170938\n",
      "[12]\teval-error:0.168739\ttrain-error:0.167784\n",
      "[13]\teval-error:0.165186\ttrain-error:0.168967\n",
      "[14]\teval-error:0.163410\ttrain-error:0.167784\n",
      "[15]\teval-error:0.165186\ttrain-error:0.167390\n",
      "[16]\teval-error:0.163410\ttrain-error:0.167390\n",
      "[17]\teval-error:0.166963\ttrain-error:0.168573\n",
      "[18]\teval-error:0.166963\ttrain-error:0.167981\n",
      "[19]\teval-error:0.165186\ttrain-error:0.168770\n",
      "[20]\teval-error:0.168739\ttrain-error:0.167390\n",
      "[21]\teval-error:0.168739\ttrain-error:0.166995\n",
      "[22]\teval-error:0.165186\ttrain-error:0.167981\n",
      "[23]\teval-error:0.168739\ttrain-error:0.166009\n",
      "[24]\teval-error:0.168739\ttrain-error:0.166404\n",
      "[25]\teval-error:0.166963\ttrain-error:0.166798\n",
      "[26]\teval-error:0.166963\ttrain-error:0.166995\n",
      "[27]\teval-error:0.163410\ttrain-error:0.167587\n",
      "[28]\teval-error:0.165186\ttrain-error:0.166207\n",
      "[29]\teval-error:0.163410\ttrain-error:0.168375\n",
      "[30]\teval-error:0.163410\ttrain-error:0.168375\n",
      "[31]\teval-error:0.163410\ttrain-error:0.168375\n",
      "[32]\teval-error:0.163410\ttrain-error:0.168375\n",
      "[33]\teval-error:0.163410\ttrain-error:0.168770\n",
      "[34]\teval-error:0.163410\ttrain-error:0.168375\n",
      "[35]\teval-error:0.165186\ttrain-error:0.167390\n",
      "[36]\teval-error:0.165186\ttrain-error:0.167390\n",
      "[37]\teval-error:0.165186\ttrain-error:0.167587\n",
      "[38]\teval-error:0.165186\ttrain-error:0.166601\n",
      "[39]\teval-error:0.165186\ttrain-error:0.166601\n",
      "[40]\teval-error:0.166963\ttrain-error:0.166601\n",
      "[41]\teval-error:0.166963\ttrain-error:0.166601\n",
      "[42]\teval-error:0.166963\ttrain-error:0.165418\n",
      "[43]\teval-error:0.166963\ttrain-error:0.165221\n",
      "[44]\teval-error:0.166963\ttrain-error:0.166601\n",
      "[45]\teval-error:0.166963\ttrain-error:0.166798\n",
      "[46]\teval-error:0.166963\ttrain-error:0.166798\n",
      "[47]\teval-error:0.166963\ttrain-error:0.166995\n",
      "[48]\teval-error:0.168739\ttrain-error:0.166601\n",
      "[49]\teval-error:0.168739\ttrain-error:0.165812\n",
      "[0]\teval-error:0.174067\ttrain-error:0.177050\n"
     ]
    },
    {
     "name": "stdout",
     "output_type": "stream",
     "text": [
      "\n",
      "0.83836589698"
     ]
    },
    {
     "name": "stderr",
     "output_type": "stream",
     "text": [
      "[1]\teval-error:0.159858\ttrain-error:0.164629\n",
      "[2]\teval-error:0.161634\ttrain-error:0.164826\n",
      "[3]\teval-error:0.159858\ttrain-error:0.164432\n",
      "[4]\teval-error:0.161634\ttrain-error:0.166404\n",
      "[5]\teval-error:0.163410\ttrain-error:0.168375\n",
      "[6]\teval-error:0.159858\ttrain-error:0.169164\n",
      "[7]\teval-error:0.159858\ttrain-error:0.171333\n",
      "[8]\teval-error:0.163410\ttrain-error:0.171333\n",
      "[9]\teval-error:0.159858\ttrain-error:0.171136\n",
      "[10]\teval-error:0.158082\ttrain-error:0.170544\n",
      "[11]\teval-error:0.159858\ttrain-error:0.170741\n",
      "[12]\teval-error:0.159858\ttrain-error:0.168375\n",
      "[13]\teval-error:0.165186\ttrain-error:0.168573\n",
      "[14]\teval-error:0.165186\ttrain-error:0.167587\n",
      "[15]\teval-error:0.165186\ttrain-error:0.168178\n",
      "[16]\teval-error:0.163410\ttrain-error:0.168375\n",
      "[17]\teval-error:0.163410\ttrain-error:0.168770\n",
      "[18]\teval-error:0.159858\ttrain-error:0.167981\n",
      "[19]\teval-error:0.161634\ttrain-error:0.168178\n",
      "[20]\teval-error:0.163410\ttrain-error:0.168770\n",
      "[21]\teval-error:0.158082\ttrain-error:0.167784\n",
      "[22]\teval-error:0.163410\ttrain-error:0.168770\n",
      "[23]\teval-error:0.159858\ttrain-error:0.168573\n",
      "[24]\teval-error:0.159858\ttrain-error:0.168770\n",
      "[25]\teval-error:0.159858\ttrain-error:0.168770\n",
      "[26]\teval-error:0.159858\ttrain-error:0.168573\n",
      "[27]\teval-error:0.163410\ttrain-error:0.168178\n",
      "[28]\teval-error:0.165186\ttrain-error:0.167784\n",
      "[29]\teval-error:0.165186\ttrain-error:0.167784\n",
      "[30]\teval-error:0.165186\ttrain-error:0.167784\n",
      "[31]\teval-error:0.163410\ttrain-error:0.167784\n",
      "[32]\teval-error:0.163410\ttrain-error:0.167784\n",
      "[33]\teval-error:0.163410\ttrain-error:0.167784\n",
      "[34]\teval-error:0.161634\ttrain-error:0.167784\n",
      "[35]\teval-error:0.163410\ttrain-error:0.167587\n",
      "[36]\teval-error:0.163410\ttrain-error:0.167587\n",
      "[37]\teval-error:0.163410\ttrain-error:0.167587\n",
      "[38]\teval-error:0.161634\ttrain-error:0.167784\n",
      "[39]\teval-error:0.161634\ttrain-error:0.167587\n",
      "[40]\teval-error:0.163410\ttrain-error:0.166798\n",
      "[41]\teval-error:0.163410\ttrain-error:0.166995\n",
      "[42]\teval-error:0.163410\ttrain-error:0.166798\n",
      "[43]\teval-error:0.161634\ttrain-error:0.167192\n",
      "[44]\teval-error:0.161634\ttrain-error:0.167192\n",
      "[45]\teval-error:0.161634\ttrain-error:0.167192\n",
      "[46]\teval-error:0.163410\ttrain-error:0.166798\n",
      "[47]\teval-error:0.161634\ttrain-error:0.166798\n",
      "[48]\teval-error:0.161634\ttrain-error:0.166601\n",
      "[49]\teval-error:0.161634\ttrain-error:0.166404\n",
      "[0]\teval-error:0.170515\ttrain-error:0.177445\n"
     ]
    },
    {
     "name": "stdout",
     "output_type": "stream",
     "text": [
      "\n",
      "0.836589698046"
     ]
    },
    {
     "name": "stderr",
     "output_type": "stream",
     "text": [
      "[1]\teval-error:0.156306\ttrain-error:0.164826\n",
      "[2]\teval-error:0.158082\ttrain-error:0.165221\n",
      "[3]\teval-error:0.159858\ttrain-error:0.165024\n",
      "[4]\teval-error:0.166963\ttrain-error:0.164826\n",
      "[5]\teval-error:0.174067\ttrain-error:0.166009\n",
      "[6]\teval-error:0.177620\ttrain-error:0.167784\n",
      "[7]\teval-error:0.177620\ttrain-error:0.167587\n",
      "[8]\teval-error:0.181172\ttrain-error:0.169953\n",
      "[9]\teval-error:0.179396\ttrain-error:0.168375\n",
      "[10]\teval-error:0.181172\ttrain-error:0.168573\n",
      "[11]\teval-error:0.177620\ttrain-error:0.167981\n",
      "[12]\teval-error:0.168739\ttrain-error:0.166601\n",
      "[13]\teval-error:0.172291\ttrain-error:0.165812\n",
      "[14]\teval-error:0.165186\ttrain-error:0.166995\n",
      "[15]\teval-error:0.168739\ttrain-error:0.165812\n",
      "[16]\teval-error:0.170515\ttrain-error:0.166207\n",
      "[17]\teval-error:0.174067\ttrain-error:0.166404\n",
      "[18]\teval-error:0.170515\ttrain-error:0.166601\n",
      "[19]\teval-error:0.170515\ttrain-error:0.167192\n",
      "[20]\teval-error:0.172291\ttrain-error:0.166601\n",
      "[21]\teval-error:0.172291\ttrain-error:0.166798\n",
      "[22]\teval-error:0.170515\ttrain-error:0.166798\n",
      "[23]\teval-error:0.168739\ttrain-error:0.166009\n",
      "[24]\teval-error:0.168739\ttrain-error:0.166009\n",
      "[25]\teval-error:0.168739\ttrain-error:0.166009\n",
      "[26]\teval-error:0.168739\ttrain-error:0.166009\n",
      "[27]\teval-error:0.166963\ttrain-error:0.165812\n",
      "[28]\teval-error:0.166963\ttrain-error:0.166798\n",
      "[29]\teval-error:0.166963\ttrain-error:0.166798\n",
      "[30]\teval-error:0.166963\ttrain-error:0.166798\n",
      "[31]\teval-error:0.166963\ttrain-error:0.165418\n",
      "[32]\teval-error:0.166963\ttrain-error:0.165418\n",
      "[33]\teval-error:0.166963\ttrain-error:0.165615\n",
      "[34]\teval-error:0.166963\ttrain-error:0.165221\n",
      "[35]\teval-error:0.166963\ttrain-error:0.165221\n",
      "[36]\teval-error:0.166963\ttrain-error:0.166009\n",
      "[37]\teval-error:0.166963\ttrain-error:0.166009\n",
      "[38]\teval-error:0.166963\ttrain-error:0.166207\n",
      "[39]\teval-error:0.166963\ttrain-error:0.165812\n",
      "[40]\teval-error:0.163410\ttrain-error:0.165418\n",
      "[41]\teval-error:0.163410\ttrain-error:0.164826\n",
      "[42]\teval-error:0.163410\ttrain-error:0.165024\n",
      "[43]\teval-error:0.163410\ttrain-error:0.165221\n",
      "[44]\teval-error:0.163410\ttrain-error:0.165221\n",
      "[45]\teval-error:0.163410\ttrain-error:0.165024\n",
      "[46]\teval-error:0.165186\ttrain-error:0.164629\n",
      "[47]\teval-error:0.165186\ttrain-error:0.164629\n",
      "[48]\teval-error:0.165186\ttrain-error:0.164235\n",
      "[49]\teval-error:0.163410\ttrain-error:0.164432\n",
      "[0]\teval-error:0.195382\ttrain-error:0.174685\n",
      "[1]\teval-error:0.191829\ttrain-error:0.162461\n"
     ]
    },
    {
     "name": "stdout",
     "output_type": "stream",
     "text": [
      "\n",
      "0.808170515098"
     ]
    },
    {
     "name": "stderr",
     "output_type": "stream",
     "text": [
      "[2]\teval-error:0.188277\ttrain-error:0.163446\n",
      "[3]\teval-error:0.188277\ttrain-error:0.160883\n",
      "[4]\teval-error:0.193606\ttrain-error:0.162461\n",
      "[5]\teval-error:0.193606\ttrain-error:0.165024\n",
      "[6]\teval-error:0.193606\ttrain-error:0.165615\n",
      "[7]\teval-error:0.195382\ttrain-error:0.165812\n",
      "[8]\teval-error:0.193606\ttrain-error:0.166798\n",
      "[9]\teval-error:0.193606\ttrain-error:0.166995\n",
      "[10]\teval-error:0.193606\ttrain-error:0.166207\n",
      "[11]\teval-error:0.197158\ttrain-error:0.166207\n",
      "[12]\teval-error:0.193606\ttrain-error:0.166404\n",
      "[13]\teval-error:0.193606\ttrain-error:0.164826\n",
      "[14]\teval-error:0.193606\ttrain-error:0.163644\n",
      "[15]\teval-error:0.191829\ttrain-error:0.163446\n",
      "[16]\teval-error:0.193606\ttrain-error:0.164235\n",
      "[17]\teval-error:0.193606\ttrain-error:0.164826\n",
      "[18]\teval-error:0.193606\ttrain-error:0.164038\n",
      "[19]\teval-error:0.193606\ttrain-error:0.164826\n",
      "[20]\teval-error:0.193606\ttrain-error:0.164432\n",
      "[21]\teval-error:0.193606\ttrain-error:0.164432\n",
      "[22]\teval-error:0.193606\ttrain-error:0.164038\n",
      "[23]\teval-error:0.193606\ttrain-error:0.164629\n",
      "[24]\teval-error:0.193606\ttrain-error:0.164629\n",
      "[25]\teval-error:0.193606\ttrain-error:0.164629\n",
      "[26]\teval-error:0.193606\ttrain-error:0.164432\n",
      "[27]\teval-error:0.193606\ttrain-error:0.163841\n",
      "[28]\teval-error:0.191829\ttrain-error:0.163841\n",
      "[29]\teval-error:0.191829\ttrain-error:0.163841\n",
      "[30]\teval-error:0.191829\ttrain-error:0.163841\n",
      "[31]\teval-error:0.191829\ttrain-error:0.163249\n",
      "[32]\teval-error:0.191829\ttrain-error:0.163249\n",
      "[33]\teval-error:0.191829\ttrain-error:0.163249\n",
      "[34]\teval-error:0.191829\ttrain-error:0.163446\n",
      "[35]\teval-error:0.191829\ttrain-error:0.163446\n",
      "[36]\teval-error:0.191829\ttrain-error:0.163446\n",
      "[37]\teval-error:0.191829\ttrain-error:0.163446\n",
      "[38]\teval-error:0.191829\ttrain-error:0.163644\n",
      "[39]\teval-error:0.193606\ttrain-error:0.163249\n",
      "[40]\teval-error:0.191829\ttrain-error:0.162658\n",
      "[41]\teval-error:0.193606\ttrain-error:0.162855\n",
      "[42]\teval-error:0.191829\ttrain-error:0.162658\n",
      "[43]\teval-error:0.193606\ttrain-error:0.162658\n",
      "[44]\teval-error:0.193606\ttrain-error:0.162658\n",
      "[45]\teval-error:0.193606\ttrain-error:0.162658\n",
      "[46]\teval-error:0.193606\ttrain-error:0.162658\n",
      "[47]\teval-error:0.191829\ttrain-error:0.163249\n",
      "[48]\teval-error:0.191829\ttrain-error:0.162461\n",
      "[49]\teval-error:0.191829\ttrain-error:0.162263\n",
      "[0]\teval-error:0.193606\ttrain-error:0.174882\n"
     ]
    },
    {
     "name": "stdout",
     "output_type": "stream",
     "text": [
      "\n",
      "0.822380106572"
     ]
    },
    {
     "name": "stderr",
     "output_type": "stream",
     "text": [
      "[1]\teval-error:0.174067\ttrain-error:0.164038\n",
      "[2]\teval-error:0.175844\ttrain-error:0.162263\n",
      "[3]\teval-error:0.174067\ttrain-error:0.164038\n",
      "[4]\teval-error:0.172291\ttrain-error:0.165221\n",
      "[5]\teval-error:0.179396\ttrain-error:0.166404\n",
      "[6]\teval-error:0.182948\ttrain-error:0.167784\n",
      "[7]\teval-error:0.182948\ttrain-error:0.169558\n",
      "[8]\teval-error:0.181172\ttrain-error:0.168573\n",
      "[9]\teval-error:0.188277\ttrain-error:0.167981\n",
      "[10]\teval-error:0.184725\ttrain-error:0.168178\n",
      "[11]\teval-error:0.186501\ttrain-error:0.168573\n",
      "[12]\teval-error:0.188277\ttrain-error:0.168770\n",
      "[13]\teval-error:0.175844\ttrain-error:0.167784\n",
      "[14]\teval-error:0.175844\ttrain-error:0.166601\n",
      "[15]\teval-error:0.175844\ttrain-error:0.166995\n",
      "[16]\teval-error:0.174067\ttrain-error:0.166798\n",
      "[17]\teval-error:0.175844\ttrain-error:0.166207\n",
      "[18]\teval-error:0.179396\ttrain-error:0.165812\n",
      "[19]\teval-error:0.179396\ttrain-error:0.166404\n",
      "[20]\teval-error:0.181172\ttrain-error:0.166207\n",
      "[21]\teval-error:0.181172\ttrain-error:0.166601\n",
      "[22]\teval-error:0.179396\ttrain-error:0.166404\n",
      "[23]\teval-error:0.179396\ttrain-error:0.166404\n",
      "[24]\teval-error:0.179396\ttrain-error:0.166404\n",
      "[25]\teval-error:0.179396\ttrain-error:0.166601\n",
      "[26]\teval-error:0.179396\ttrain-error:0.166601\n",
      "[27]\teval-error:0.177620\ttrain-error:0.165615\n",
      "[28]\teval-error:0.175844\ttrain-error:0.166207\n",
      "[29]\teval-error:0.175844\ttrain-error:0.166207\n",
      "[30]\teval-error:0.175844\ttrain-error:0.166404\n",
      "[31]\teval-error:0.175844\ttrain-error:0.165812\n",
      "[32]\teval-error:0.175844\ttrain-error:0.165812\n",
      "[33]\teval-error:0.175844\ttrain-error:0.165812\n",
      "[34]\teval-error:0.175844\ttrain-error:0.166009\n",
      "[35]\teval-error:0.175844\ttrain-error:0.165615\n",
      "[36]\teval-error:0.177620\ttrain-error:0.165812\n",
      "[37]\teval-error:0.175844\ttrain-error:0.165812\n",
      "[38]\teval-error:0.175844\ttrain-error:0.165812\n",
      "[39]\teval-error:0.179396\ttrain-error:0.166009\n",
      "[40]\teval-error:0.175844\ttrain-error:0.165221\n",
      "[41]\teval-error:0.175844\ttrain-error:0.165221\n",
      "[42]\teval-error:0.175844\ttrain-error:0.165024\n",
      "[43]\teval-error:0.177620\ttrain-error:0.164629\n",
      "[44]\teval-error:0.177620\ttrain-error:0.165024\n",
      "[45]\teval-error:0.177620\ttrain-error:0.165024\n",
      "[46]\teval-error:0.177620\ttrain-error:0.165221\n",
      "[47]\teval-error:0.177620\ttrain-error:0.165221\n",
      "[48]\teval-error:0.177620\ttrain-error:0.165221\n",
      "[49]\teval-error:0.177620\ttrain-error:0.165221\n",
      "[0]\teval-error:0.163410\ttrain-error:0.179219\n"
     ]
    },
    {
     "name": "stdout",
     "output_type": "stream",
     "text": [
      "\n",
      "0.847246891652"
     ]
    },
    {
     "name": "stderr",
     "output_type": "stream",
     "text": [
      "[1]\teval-error:0.145648\ttrain-error:0.167192\n",
      "[2]\teval-error:0.152753\ttrain-error:0.175276\n",
      "[3]\teval-error:0.145648\ttrain-error:0.166995\n",
      "[4]\teval-error:0.147425\ttrain-error:0.168375\n",
      "[5]\teval-error:0.152753\ttrain-error:0.169558\n",
      "[6]\teval-error:0.149201\ttrain-error:0.169164\n",
      "[7]\teval-error:0.150977\ttrain-error:0.170544\n",
      "[8]\teval-error:0.150977\ttrain-error:0.172121\n",
      "[9]\teval-error:0.149201\ttrain-error:0.172319\n",
      "[10]\teval-error:0.147425\ttrain-error:0.171727\n",
      "[11]\teval-error:0.152753\ttrain-error:0.171924\n",
      "[12]\teval-error:0.149201\ttrain-error:0.170150\n",
      "[13]\teval-error:0.150977\ttrain-error:0.170544\n",
      "[14]\teval-error:0.150977\ttrain-error:0.169756\n",
      "[15]\teval-error:0.150977\ttrain-error:0.169953\n",
      "[16]\teval-error:0.152753\ttrain-error:0.170544\n",
      "[17]\teval-error:0.152753\ttrain-error:0.169558\n",
      "[18]\teval-error:0.150977\ttrain-error:0.169164\n",
      "[19]\teval-error:0.152753\ttrain-error:0.170150\n",
      "[20]\teval-error:0.152753\ttrain-error:0.169756\n",
      "[21]\teval-error:0.150977\ttrain-error:0.169756\n",
      "[22]\teval-error:0.152753\ttrain-error:0.169558\n",
      "[23]\teval-error:0.152753\ttrain-error:0.169558\n",
      "[24]\teval-error:0.152753\ttrain-error:0.169558\n",
      "[25]\teval-error:0.152753\ttrain-error:0.169558\n",
      "[26]\teval-error:0.154529\ttrain-error:0.169756\n",
      "[27]\teval-error:0.152753\ttrain-error:0.168375\n",
      "[28]\teval-error:0.154529\ttrain-error:0.167390\n",
      "[29]\teval-error:0.154529\ttrain-error:0.167390\n",
      "[30]\teval-error:0.154529\ttrain-error:0.167390\n",
      "[31]\teval-error:0.154529\ttrain-error:0.167587\n",
      "[32]\teval-error:0.154529\ttrain-error:0.167587\n",
      "[33]\teval-error:0.154529\ttrain-error:0.167390\n",
      "[34]\teval-error:0.156306\ttrain-error:0.167587\n",
      "[35]\teval-error:0.156306\ttrain-error:0.167587\n",
      "[36]\teval-error:0.158082\ttrain-error:0.166601\n",
      "[37]\teval-error:0.154529\ttrain-error:0.167587\n",
      "[38]\teval-error:0.154529\ttrain-error:0.167981\n",
      "[39]\teval-error:0.154529\ttrain-error:0.167981\n",
      "[40]\teval-error:0.154529\ttrain-error:0.168178\n",
      "[41]\teval-error:0.152753\ttrain-error:0.167192\n",
      "[42]\teval-error:0.154529\ttrain-error:0.167587\n",
      "[43]\teval-error:0.152753\ttrain-error:0.167192\n",
      "[44]\teval-error:0.152753\ttrain-error:0.166601\n",
      "[45]\teval-error:0.152753\ttrain-error:0.166601\n",
      "[46]\teval-error:0.152753\ttrain-error:0.166798\n",
      "[47]\teval-error:0.152753\ttrain-error:0.166404\n",
      "[48]\teval-error:0.152753\ttrain-error:0.166207\n",
      "[49]\teval-error:0.152753\ttrain-error:0.166009\n",
      "[0]\teval-error:0.166963\ttrain-error:0.177839\n"
     ]
    },
    {
     "name": "stdout",
     "output_type": "stream",
     "text": [
      "\n",
      "0.845470692718\n"
     ]
    },
    {
     "name": "stderr",
     "output_type": "stream",
     "text": [
      "[1]\teval-error:0.158082\ttrain-error:0.164629\n",
      "[2]\teval-error:0.161634\ttrain-error:0.173304\n",
      "[3]\teval-error:0.158082\ttrain-error:0.164826\n",
      "[4]\teval-error:0.152753\ttrain-error:0.169164\n",
      "[5]\teval-error:0.156306\ttrain-error:0.169361\n",
      "[6]\teval-error:0.158082\ttrain-error:0.170938\n",
      "[7]\teval-error:0.158082\ttrain-error:0.171924\n",
      "[8]\teval-error:0.161634\ttrain-error:0.172121\n",
      "[9]\teval-error:0.159858\ttrain-error:0.171333\n",
      "[10]\teval-error:0.158082\ttrain-error:0.169953\n",
      "[11]\teval-error:0.158082\ttrain-error:0.171530\n",
      "[12]\teval-error:0.154529\ttrain-error:0.169953\n",
      "[13]\teval-error:0.152753\ttrain-error:0.168573\n",
      "[14]\teval-error:0.154529\ttrain-error:0.168573\n",
      "[15]\teval-error:0.152753\ttrain-error:0.167981\n",
      "[16]\teval-error:0.156306\ttrain-error:0.167587\n",
      "[17]\teval-error:0.154529\ttrain-error:0.168573\n",
      "[18]\teval-error:0.154529\ttrain-error:0.168967\n",
      "[19]\teval-error:0.154529\ttrain-error:0.169164\n",
      "[20]\teval-error:0.154529\ttrain-error:0.169164\n",
      "[21]\teval-error:0.154529\ttrain-error:0.168770\n",
      "[22]\teval-error:0.152753\ttrain-error:0.167981\n",
      "[23]\teval-error:0.154529\ttrain-error:0.167784\n",
      "[24]\teval-error:0.154529\ttrain-error:0.167784\n",
      "[25]\teval-error:0.154529\ttrain-error:0.167784\n",
      "[26]\teval-error:0.154529\ttrain-error:0.168178\n",
      "[27]\teval-error:0.154529\ttrain-error:0.167390\n",
      "[28]\teval-error:0.156306\ttrain-error:0.168573\n",
      "[29]\teval-error:0.156306\ttrain-error:0.168573\n",
      "[30]\teval-error:0.156306\ttrain-error:0.168573\n",
      "[31]\teval-error:0.156306\ttrain-error:0.168375\n",
      "[32]\teval-error:0.156306\ttrain-error:0.168375\n",
      "[33]\teval-error:0.156306\ttrain-error:0.168375\n",
      "[34]\teval-error:0.156306\ttrain-error:0.168178\n",
      "[35]\teval-error:0.156306\ttrain-error:0.168178\n",
      "[36]\teval-error:0.156306\ttrain-error:0.167981\n",
      "[37]\teval-error:0.156306\ttrain-error:0.167981\n",
      "[38]\teval-error:0.156306\ttrain-error:0.167784\n",
      "[39]\teval-error:0.156306\ttrain-error:0.167390\n",
      "[40]\teval-error:0.156306\ttrain-error:0.167784\n",
      "[41]\teval-error:0.156306\ttrain-error:0.167981\n",
      "[42]\teval-error:0.156306\ttrain-error:0.167981\n",
      "[43]\teval-error:0.154529\ttrain-error:0.167587\n",
      "[44]\teval-error:0.154529\ttrain-error:0.167587\n",
      "[45]\teval-error:0.154529\ttrain-error:0.167587\n",
      "[46]\teval-error:0.156306\ttrain-error:0.167587\n",
      "[47]\teval-error:0.156306\ttrain-error:0.167192\n",
      "[48]\teval-error:0.156306\ttrain-error:0.166404\n",
      "[49]\teval-error:0.154529\ttrain-error:0.166995\n"
     ]
    }
   ],
   "source": [
    "param = {'max_depth':3, 'eta':0.1, 'gamma':0, 'silent':0, 'objective':'binary:logistic', 'colsample_bytree':.5,\n",
    "             'nthread':6, 'min_child_weight':1.4, 'scale_pos_weight':.59/.41}\n",
    "\n",
    "numround = 50\n",
    "\n",
    "\n",
    "skf = StratifiedKFold(labels[:,0], n_folds=10, shuffle=True)\n",
    "meta_preds = np.zeros(labels.shape[0])\n",
    "\n",
    "for i, (train,test) in enumerate(skf):\n",
    "    \n",
    "    dtrain = xgb.DMatrix(meta_in[train, :], label=labels[train, :])\n",
    "    dtest = xgb.DMatrix(meta_in[test, :], label=labels[test, :])\n",
    "    \n",
    "    bst = xgb.train(param, dtrain, numround, [(dtest,'eval'), (dtrain,'train')])\n",
    "    \n",
    "    meta_preds[test] = bst.predict(dtest)\n",
    "    \n",
    "    print (1.0 * np.sum((meta_preds[test] > .5) == labels[test,0])) / len(test)\n"
   ]
  },
  {
   "cell_type": "code",
   "execution_count": 11,
   "metadata": {
    "collapsed": false
   },
   "outputs": [
    {
     "name": "stdout",
     "output_type": "stream",
     "text": [
      "0.831055900621\n"
     ]
    }
   ],
   "source": [
    "print (1.0 * np.sum((meta_preds > .5) == labels[:,0])) / len(meta_preds)"
   ]
  },
  {
   "cell_type": "code",
   "execution_count": null,
   "metadata": {
    "collapsed": true
   },
   "outputs": [],
   "source": [
    "dtrain = xgb.DMatrix(meta_in, label=labels)\n",
    "bst = xgb.train(param, dtrain, numround)\n",
    "bst.save_model('meta.model')"
   ]
  },
  {
   "cell_type": "code",
   "execution_count": null,
   "metadata": {
    "collapsed": true
   },
   "outputs": [],
   "source": []
  },
  {
   "cell_type": "code",
   "execution_count": 22,
   "metadata": {
    "collapsed": true
   },
   "outputs": [],
   "source": [
    "oos_class_preds = label_preds1"
   ]
  },
  {
   "cell_type": "code",
   "execution_count": 23,
   "metadata": {
    "collapsed": false
   },
   "outputs": [
    {
     "data": {
      "image/png": "[encoded data removed]",
      "text/plain": [
       "<matplotlib.figure.Figure at 0x7f7f2a2a4810>"
      ]
     },
     "metadata": {},
     "output_type": "display_data"
    },
    {
     "data": {
      "image/png": "[encoded data removed]",
      "text/plain": [
       "<matplotlib.figure.Figure at 0x7f7f7656f550>"
      ]
     },
     "metadata": {},
     "output_type": "display_data"
    }
   ],
   "source": [
    "from matplotlib import pyplot as plt\n",
    "%matplotlib inline\n",
    "\n",
    "x_range = np.arange(0,1,.01)\n",
    "\n",
    "y_range = np.zeros(len(x_range))\n",
    "dice_guess = np.zeros(len(x_range))\n",
    "\n",
    "for i, x in enumerate(x_range):\n",
    "    y_range[i] = (1.0 * np.sum(labels == 1.0 * (oos_class_preds > x))) / len(y)\n",
    "    \n",
    "    correct_pos = np.sum(labels + 1.0 * (oos_class_preds > x) == 2)\n",
    "    correct_neg = (1.0 * np.sum(labels == 1.0 * (oos_class_preds > x))) - correct_pos\n",
    "    dice_guess[i] = (correct_neg + .75 * correct_pos) / len(y)\n",
    "    \n",
    "\n",
    "plt.plot(x_range, y_range)\n",
    "plt.show()\n",
    "\n",
    "plt.plot(x_range, dice_guess)\n",
    "plt.show()"
   ]
  },
  {
   "cell_type": "code",
   "execution_count": 29,
   "metadata": {
    "collapsed": false,
    "scrolled": true
   },
   "outputs": [
    {
     "name": "stdout",
     "output_type": "stream",
     "text": [
      "[2814, 956, 1865]\n",
      "10\n",
      "[2814, 956, 1865]\n",
      "20\n",
      "[2814, 956, 1865]\n",
      "30\n",
      "[2814, 956, 1865]\n",
      "40\n",
      "[2814, 956, 1865]\n",
      "50\n",
      "[2814, 956, 1865]\n",
      "60\n",
      "[2814, 956, 1865]\n",
      "70\n",
      "[2814, 956, 1865]\n",
      "80\n",
      "[2814, 956, 1865]\n",
      "90\n",
      "[2814, 956, 1865]\n",
      "100\n",
      "[2814, 956, 1865]\n",
      "110\n",
      "[2814, 956, 1865]\n",
      "120\n",
      "[2814, 956, 1865]\n",
      "130\n",
      "[2814, 956, 1865]\n",
      "140\n",
      "[2814, 956, 1865]\n",
      "150\n",
      "[2814, 956, 1865]\n",
      "160\n",
      "[2815, 955, 1865]\n",
      "170\n",
      "[2815, 955, 1865]\n",
      "180\n",
      "[2815, 955, 1865]\n",
      "190\n",
      "[2815, 955, 1865]\n",
      "200\n",
      "[2815, 955, 1865]\n",
      "210\n",
      "[2815, 955, 1865]\n",
      "220\n",
      "[2815, 955, 1865]\n",
      "230\n",
      "[2815, 955, 1865]\n",
      "240\n",
      "[2815, 955, 1865]\n",
      "250\n",
      "[2815, 955, 1865]\n",
      "260\n",
      "[2815, 955, 1865]\n",
      "270\n",
      "[2818, 952, 1865]\n",
      "280\n",
      "[2819, 953, 1863]\n",
      "290\n",
      "[2820, 952, 1863]\n",
      "300\n",
      "[2822, 959, 1854]\n",
      "310\n",
      "[2825, 961, 1849]\n",
      "320\n",
      "[2830, 968, 1837]\n",
      "330\n",
      "[2842, 976, 1817]\n",
      "340\n",
      "[2851, 1000, 1784]\n",
      "350\n",
      "[2863, 1032, 1740]\n",
      "360\n",
      "[2878, 1062, 1695]\n",
      "370\n",
      "[2893, 1111, 1631]\n",
      "380\n",
      "[2904, 1154, 1577]\n",
      "390\n"
     ]
    },
    {
     "data": {
      "image/png": "[encoded data removed]",
      "text/plain": [
       "<matplotlib.figure.Figure at 0x7f9b21517650>"
      ]
     },
     "metadata": {},
     "output_type": "display_data"
    }
   ],
   "source": [
    "#x_range = np.arange(.2,.7,.01)\n",
    "x_range = np.arange(10,400,10)\n",
    "y_range = np.zeros(len(x_range))\n",
    "\n",
    "for i, x in enumerate(x_range):\n",
    "    X_pred_temp = np.copy(X_pred)\n",
    "    \n",
    "    #pred_labels = 1.0 * ((label_preds2[:,0] > x) and  (label_preds1[:,0] > x) and (xgb_preds > x))\n",
    "    \n",
    "    for j in range(X_pred.shape[0]):\n",
    "        if np.sum(X_pred_temp[j, 0, :, :]) < x or meta_preds[j] < .55:\n",
    "            X_pred_temp[j, 0, :, :] = np.zeros((96, 128))\n",
    "    \n",
    "    y_range[i] = get_dice(X_pred_temp, y)\n",
    "    print x\n",
    "\n",
    "plt.plot(x_range, y_range)\n",
    "plt.show()"
   ]
  },
  {
   "cell_type": "code",
   "execution_count": 13,
   "metadata": {
    "collapsed": false
   },
   "outputs": [],
   "source": [
    "def get_dice(X, y):\n",
    "        \n",
    "    counts = [0,0,0]\n",
    "    dice_list = list()\n",
    "    for i in range(X.shape[0]):\n",
    "        pred = X[i, 0, :, :]\n",
    "        mask = y[i, 0, :,]\n",
    "\n",
    "        total = np.add(pred, mask)\n",
    "        correct = np.sum(total > 1.5)\n",
    "\n",
    "        if np.sum(pred) + np.sum(mask) == 0:\n",
    "            result_dice = 1.0\n",
    "            counts[0] += 1\n",
    "        else:\n",
    "            result_dice = (2.0 * correct) / (np.sum(pred) + np.sum(mask))\n",
    "            if correct == 0:\n",
    "                counts[1] += 1\n",
    "            else:\n",
    "                counts[2] += 1\n",
    "\n",
    "        dice_list.append(result_dice)\n",
    "    \n",
    "    print counts\n",
    "    return np.mean(dice_list)"
   ]
  },
  {
   "cell_type": "code",
   "execution_count": 30,
   "metadata": {
    "collapsed": false
   },
   "outputs": [
    {
     "name": "stdout",
     "output_type": "stream",
     "text": [
      "[142, 3177, 2316]\n"
     ]
    },
    {
     "data": {
      "text/plain": [
       "0.3834873501788546"
      ]
     },
     "execution_count": 30,
     "metadata": {},
     "output_type": "execute_result"
    }
   ],
   "source": [
    "get_dice(X_pred, y)"
   ]
  },
  {
   "cell_type": "code",
   "execution_count": null,
   "metadata": {
    "collapsed": true
   },
   "outputs": [],
   "source": []
  },
  {
   "cell_type": "code",
   "execution_count": 26,
   "metadata": {
    "collapsed": true
   },
   "outputs": [],
   "source": [
    "pred_labels = np.zeros(labels.shape[0])\n",
    "for i in range(len(labels)):\n",
    "    if np.sum(oos_preds[i, 0, :, :] > .9) > 10:\n",
    "        pred_labels[i] = 1"
   ]
  },
  {
   "cell_type": "code",
   "execution_count": 27,
   "metadata": {
    "collapsed": false
   },
   "outputs": [
    {
     "data": {
      "text/plain": [
       "0.80354924578527065"
      ]
     },
     "execution_count": 27,
     "metadata": {},
     "output_type": "execute_result"
    }
   ],
   "source": [
    "np.sum((1.0 * (pred_labels == labels))) / len(labels)"
   ]
  },
  {
   "cell_type": "code",
   "execution_count": 103,
   "metadata": {
    "collapsed": true
   },
   "outputs": [],
   "source": [
    "class_preds = 1.0 * (class_oos_preds > .65)"
   ]
  },
  {
   "cell_type": "code",
   "execution_count": null,
   "metadata": {
    "collapsed": true
   },
   "outputs": [],
   "source": []
  },
  {
   "cell_type": "code",
   "execution_count": 28,
   "metadata": {
    "collapsed": true
   },
   "outputs": [],
   "source": [
    "tp = 0\n",
    "fp = 0\n",
    "tn = 0\n",
    "fn = 0\n",
    "for i in range(len(labels)):\n",
    "    if pred_labels[i] == 0 and labels[i] == 0:\n",
    "        tn += 1\n",
    "    if pred_labels[i] == 0 and labels[i] == 1:\n",
    "        fn += 1\n",
    "    if pred_labels[i] == 1 and labels[i] == 1:\n",
    "        tp += 1\n",
    "    if pred_labels[i] == 1 and labels[i] == 0:\n",
    "        fp += 1      "
   ]
  },
  {
   "cell_type": "code",
   "execution_count": 6,
   "metadata": {
    "collapsed": false
   },
   "outputs": [
    {
     "ename": "NameError",
     "evalue": "name 'tp' is not defined",
     "output_type": "error",
     "traceback": [
      "\u001b[1;31m---------------------------------------------------------------------------\u001b[0m",
      "\u001b[1;31mNameError\u001b[0m                                 Traceback (most recent call last)",
      "\u001b[1;32m<ipython-input-6-7d78ace79a60>\u001b[0m in \u001b[0;36m<module>\u001b[1;34m()\u001b[0m\n\u001b[1;32m----> 1\u001b[1;33m \u001b[1;33m(\u001b[0m\u001b[1;36m1.0\u001b[0m \u001b[1;33m*\u001b[0m \u001b[0mtp\u001b[0m\u001b[1;33m)\u001b[0m \u001b[1;33m/\u001b[0m \u001b[1;33m(\u001b[0m\u001b[0mtp\u001b[0m \u001b[1;33m+\u001b[0m \u001b[0mfn\u001b[0m\u001b[1;33m)\u001b[0m\u001b[1;33m\u001b[0m\u001b[0m\n\u001b[0m",
      "\u001b[1;31mNameError\u001b[0m: name 'tp' is not defined"
     ]
    }
   ],
   "source": [
    "(1.0 * tp) / (tp + fn)"
   ]
  },
  {
   "cell_type": "code",
   "execution_count": 30,
   "metadata": {
    "collapsed": false
   },
   "outputs": [
    {
     "data": {
      "text/plain": [
       "0.8800413650465356"
      ]
     },
     "execution_count": 30,
     "metadata": {},
     "output_type": "execute_result"
    }
   ],
   "source": [
    "(1.0 * tn) / (tn + fp)"
   ]
  },
  {
   "cell_type": "code",
   "execution_count": 35,
   "metadata": {
    "collapsed": false
   },
   "outputs": [
    {
     "data": {
      "text/plain": [
       "2901"
      ]
     },
     "execution_count": 35,
     "metadata": {},
     "output_type": "execute_result"
    }
   ],
   "source": [
    "tn + fn"
   ]
  },
  {
   "cell_type": "code",
   "execution_count": 105,
   "metadata": {
    "collapsed": false
   },
   "outputs": [
    {
     "data": {
      "text/plain": [
       "0.6773025732031943"
      ]
     },
     "execution_count": 105,
     "metadata": {},
     "output_type": "execute_result"
    }
   ],
   "source": [
    "(tn + .6 * tp) / (tp + fp + tn + fn)"
   ]
  },
  {
   "cell_type": "code",
   "execution_count": 33,
   "metadata": {
    "collapsed": false
   },
   "outputs": [
    {
     "data": {
      "image/png": "[encoded data removed]",
      "text/plain": [
       "<matplotlib.figure.Figure at 0x7fd0605d9b10>"
      ]
     },
     "metadata": {},
     "output_type": "display_data"
    },
    {
     "data": {
      "image/png": "[encoded data removed]",
      "text/plain": [
       "<matplotlib.figure.Figure at 0x7fd03b159590>"
      ]
     },
     "metadata": {},
     "output_type": "display_data"
    },
    {
     "name": "stdout",
     "output_type": "stream",
     "text": [
      "6.99547745171e-05\n",
      "0.0180627405254\n"
     ]
    },
    {
     "data": {
      "image/png": "[encoded data removed]",
      "text/plain": [
       "<matplotlib.figure.Figure at 0x7fd07e9061d0>"
      ]
     },
     "metadata": {},
     "output_type": "display_data"
    }
   ],
   "source": [
    "from matplotlib import pyplot as plt\n",
    "%matplotlib inline\n",
    "\n",
    "plt.imshow(X[130, 0, :, :])\n",
    "plt.show()\n",
    "\n",
    "plt.imshow(oos_preds[130, 0, :, :])\n",
    "plt.show()\n",
    "print np.amax(oos_preds[130, 0, :, :])\n",
    "print np.sum(oos_preds[130, 0, :, :])\n",
    "\n",
    "plt.imshow(y[130, 0, :, :])\n",
    "plt.show()"
   ]
  },
  {
   "cell_type": "code",
   "execution_count": null,
   "metadata": {
    "collapsed": true
   },
   "outputs": [],
   "source": []
  },
  {
   "cell_type": "code",
   "execution_count": null,
   "metadata": {
    "collapsed": true
   },
   "outputs": [],
   "source": []
  },
  {
   "cell_type": "code",
   "execution_count": null,
   "metadata": {
    "collapsed": true
   },
   "outputs": [],
   "source": []
  },
  {
   "cell_type": "code",
   "execution_count": 10,
   "metadata": {
    "collapsed": false,
    "scrolled": true
   },
   "outputs": [
    {
     "name": "stdout",
     "output_type": "stream",
     "text": [
      "Epoch 1/20\n",
      "5600/5600 [==============================] - 24s - loss: 0.3256 - acc: 0.5736    \n",
      "Epoch 2/20\n",
      "5603/5600 [==============================] - 24s - loss: 0.3048 - acc: 0.6509    \n",
      "Epoch 3/20\n",
      "5603/5600 [==============================] - 24s - loss: 0.2843 - acc: 0.6989    \n",
      "Epoch 4/20\n",
      "5603/5600 [==============================] - 24s - loss: 0.2672 - acc: 0.7339    \n",
      "Epoch 5/20\n",
      "5603/5600 [==============================] - 24s - loss: 0.2602 - acc: 0.7419    \n",
      "Epoch 6/20\n",
      "5603/5600 [==============================] - 24s - loss: 0.2478 - acc: 0.7582    \n",
      "Epoch 7/20\n",
      "5603/5600 [==============================] - 24s - loss: 0.2446 - acc: 0.7626    \n",
      "Epoch 8/20\n",
      "5603/5600 [==============================] - 24s - loss: 0.2395 - acc: 0.7780    \n",
      "Epoch 9/20\n",
      "5603/5600 [==============================] - 24s - loss: 0.2341 - acc: 0.7710    \n",
      "Epoch 10/20\n",
      "5603/5600 [==============================] - 24s - loss: 0.2291 - acc: 0.7789    \n",
      "Epoch 11/20\n",
      "5603/5600 [==============================] - 24s - loss: 0.2279 - acc: 0.7810    \n",
      "Epoch 12/20\n",
      "5603/5600 [==============================] - 24s - loss: 0.2258 - acc: 0.7814    \n",
      "Epoch 13/20\n",
      "5603/5600 [==============================] - 24s - loss: 0.2205 - acc: 0.7867    \n",
      "Epoch 14/20\n",
      "5603/5600 [==============================] - 24s - loss: 0.2220 - acc: 0.7881    \n",
      "Epoch 15/20\n",
      "5603/5600 [==============================] - 24s - loss: 0.2189 - acc: 0.7942    \n",
      "Epoch 16/20\n",
      "5603/5600 [==============================] - 24s - loss: 0.2131 - acc: 0.8019    \n",
      "Epoch 17/20\n",
      "5603/5600 [==============================] - 24s - loss: 0.2131 - acc: 0.7990    \n",
      "Epoch 18/20\n",
      "5603/5600 [==============================] - 24s - loss: 0.2110 - acc: 0.8012    \n",
      "Epoch 19/20\n",
      "5603/5600 [==============================] - 24s - loss: 0.2082 - acc: 0.8058    \n",
      "Epoch 20/20\n",
      "5603/5600 [==============================] - 24s - loss: 0.2040 - acc: 0.8101    \n"
     ]
    },
    {
     "data": {
      "text/plain": [
       "<keras.callbacks.History at 0x7ff799fc0210>"
      ]
     },
     "execution_count": 10,
     "metadata": {},
     "output_type": "execute_result"
    }
   ],
   "source": [
    "im_generator = ImageDataGenerator(rotation_range=10, width_shift_range = .1,\n",
    "                               height_shift_range= .06, shear_range = .25)\n",
    "train_generator = im_generator.flow(X,labels, shuffle=True, batch_size=32)\n",
    "\n",
    "\n",
    "model = None # Clearing the NN.\n",
    "model = models.make_classifier()\n",
    "\n",
    "Checkpoint = ModelCheckpoint('simple_full_weights.h5')\n",
    "model.fit_generator(train_generator, 5600, 20,\n",
    "                      callbacks = [Checkpoint],\n",
    "                       class_weight = {0:.41, 1:.59})"
   ]
  },
  {
   "cell_type": "code",
   "execution_count": 69,
   "metadata": {
    "collapsed": false,
    "scrolled": true
   },
   "outputs": [
    {
     "name": "stdout",
     "output_type": "stream",
     "text": [
      "Running Fold 1 / 5\n",
      "Epoch 1/40\n",
      "4507/4500 [==============================] - 20s - loss: 0.3244 - acc: 0.5775 - val_loss: 0.5700 - val_acc: 0.7057\n",
      "Epoch 2/40\n",
      "4507/4500 [==============================] - 20s - loss: 0.2955 - acc: 0.6761 - val_loss: 0.5588 - val_acc: 0.7394\n",
      "Epoch 3/40\n",
      "4507/4500 [==============================] - 20s - loss: 0.2799 - acc: 0.7078 - val_loss: 0.5351 - val_acc: 0.7447\n",
      "Epoch 4/40\n",
      "4507/4500 [==============================] - 20s - loss: 0.2700 - acc: 0.7264 - val_loss: 0.5350 - val_acc: 0.7394\n",
      "Epoch 5/40\n",
      "4507/4500 [==============================] - 20s - loss: 0.2654 - acc: 0.7342 - val_loss: 0.5198 - val_acc: 0.7535\n",
      "Epoch 6/40\n",
      "4507/4500 [==============================] - 20s - loss: 0.2558 - acc: 0.7355 - val_loss: 0.5038 - val_acc: 0.7651\n",
      "Epoch 7/40\n",
      "4507/4500 [==============================] - 20s - loss: 0.2493 - acc: 0.7546 - val_loss: 0.5013 - val_acc: 0.7713\n",
      "Epoch 8/40\n",
      "4507/4500 [==============================] - 20s - loss: 0.2461 - acc: 0.7570 - val_loss: 0.4803 - val_acc: 0.7828\n",
      "Epoch 9/40\n",
      "4507/4500 [==============================] - 20s - loss: 0.2376 - acc: 0.7673 - val_loss: 0.4921 - val_acc: 0.7739\n",
      "Epoch 10/40\n",
      "4507/4500 [==============================] - 20s - loss: 0.2346 - acc: 0.7679 - val_loss: 0.4902 - val_acc: 0.7668\n",
      "Epoch 11/40\n",
      "4507/4500 [==============================] - 20s - loss: 0.2330 - acc: 0.7741 - val_loss: 0.5164 - val_acc: 0.7580\n",
      "Epoch 12/40\n",
      "4507/4500 [==============================] - 20s - loss: 0.2291 - acc: 0.7783 - val_loss: 0.4748 - val_acc: 0.7775\n",
      "Epoch 13/40\n",
      "4507/4500 [==============================] - 20s - loss: 0.2262 - acc: 0.7801 - val_loss: 0.4681 - val_acc: 0.7863\n",
      "Epoch 14/40\n",
      "4507/4500 [==============================] - 20s - loss: 0.2213 - acc: 0.7852 - val_loss: 0.5291 - val_acc: 0.7562\n",
      "Epoch 15/40\n",
      "4507/4500 [==============================] - 20s - loss: 0.2166 - acc: 0.7868 - val_loss: 0.4900 - val_acc: 0.7775\n",
      "Epoch 16/40\n",
      "4507/4500 [==============================] - 20s - loss: 0.2168 - acc: 0.7874 - val_loss: 0.4803 - val_acc: 0.7730\n",
      "Epoch 17/40\n",
      "4507/4500 [==============================] - 20s - loss: 0.2179 - acc: 0.7883 - val_loss: 0.5886 - val_acc: 0.7402\n",
      "Epoch 18/40\n",
      "4507/4500 [==============================] - 20s - loss: 0.2134 - acc: 0.8012 - val_loss: 0.4648 - val_acc: 0.7881\n",
      "Epoch 19/40\n",
      "4507/4500 [==============================] - 20s - loss: 0.2068 - acc: 0.8094 - val_loss: 0.5090 - val_acc: 0.7855\n",
      "Epoch 20/40\n",
      "4507/4500 [==============================] - 20s - loss: 0.2069 - acc: 0.8008 - val_loss: 0.5471 - val_acc: 0.7482\n",
      "Epoch 21/40\n",
      "4507/4500 [==============================] - 20s - loss: 0.2033 - acc: 0.8110 - val_loss: 0.4724 - val_acc: 0.7704\n",
      "Epoch 22/40\n",
      "4507/4500 [==============================] - 20s - loss: 0.2044 - acc: 0.8030 - val_loss: 0.4831 - val_acc: 0.7837\n",
      "Epoch 23/40\n",
      "4507/4500 [==============================] - 20s - loss: 0.2045 - acc: 0.8043 - val_loss: 0.5084 - val_acc: 0.7793\n",
      "Epoch 24/40\n",
      "4507/4500 [==============================] - 20s - loss: 0.2048 - acc: 0.8050 - val_loss: 0.4890 - val_acc: 0.7677\n",
      "Epoch 25/40\n",
      "4507/4500 [==============================] - 20s - loss: 0.1962 - acc: 0.8183 - val_loss: 0.5170 - val_acc: 0.7722\n",
      "Epoch 26/40\n",
      "4507/4500 [==============================] - 20s - loss: 0.1966 - acc: 0.8154 - val_loss: 0.5470 - val_acc: 0.7642\n",
      "Epoch 27/40\n",
      "4507/4500 [==============================] - 20s - loss: 0.1934 - acc: 0.8130 - val_loss: 0.5431 - val_acc: 0.7748\n",
      "Epoch 28/40\n",
      "4507/4500 [==============================] - 20s - loss: 0.1946 - acc: 0.8158 - val_loss: 0.5021 - val_acc: 0.7686\n",
      "Epoch 29/40\n",
      "4507/4500 [==============================] - 20s - loss: 0.1931 - acc: 0.8192 - val_loss: 0.4825 - val_acc: 0.7846\n",
      "Epoch 30/40\n",
      "4507/4500 [==============================] - 20s - loss: 0.1840 - acc: 0.8316 - val_loss: 0.5228 - val_acc: 0.7757\n",
      "Epoch 31/40\n",
      "4507/4500 [==============================] - 20s - loss: 0.1883 - acc: 0.8243 - val_loss: 0.5202 - val_acc: 0.7598\n",
      "Epoch 32/40\n",
      "4507/4500 [==============================] - 20s - loss: 0.1854 - acc: 0.8245 - val_loss: 0.5568 - val_acc: 0.7757\n",
      "Epoch 33/40\n",
      "4507/4500 [==============================] - 20s - loss: 0.1819 - acc: 0.8305 - val_loss: 0.5184 - val_acc: 0.7757\n",
      "Epoch 34/40\n",
      "4507/4500 [==============================] - 20s - loss: 0.1831 - acc: 0.8300 - val_loss: 0.5634 - val_acc: 0.7651\n",
      "Epoch 35/40\n",
      "4507/4500 [==============================] - 20s - loss: 0.1781 - acc: 0.8316 - val_loss: 0.5496 - val_acc: 0.7739\n",
      "Epoch 36/40\n",
      "4507/4500 [==============================] - 20s - loss: 0.1815 - acc: 0.8314 - val_loss: 0.5375 - val_acc: 0.7766\n",
      "Epoch 37/40\n",
      "4507/4500 [==============================] - 20s - loss: 0.1753 - acc: 0.8340 - val_loss: 0.6205 - val_acc: 0.7580\n",
      "Epoch 38/40\n",
      "4507/4500 [==============================] - 20s - loss: 0.1747 - acc: 0.8327 - val_loss: 0.5096 - val_acc: 0.7784\n",
      "Epoch 39/40\n",
      "4507/4500 [==============================] - 20s - loss: 0.1720 - acc: 0.8425 - val_loss: 0.5357 - val_acc: 0.7704\n",
      "Epoch 40/40\n",
      "1280/4500 [=======>......................] - ETA: 13s - loss: 0.1613 - acc: 0.8523"
     ]
    },
    {
     "ename": "KeyboardInterrupt",
     "evalue": "",
     "output_type": "error",
     "traceback": [
      "\u001b[1;31m---------------------------------------------------------------------------\u001b[0m",
      "\u001b[1;31mKeyboardInterrupt\u001b[0m                         Traceback (most recent call last)",
      "\u001b[1;32m<ipython-input-69-387593be9a17>\u001b[0m in \u001b[0;36m<module>\u001b[1;34m()\u001b[0m\n\u001b[0;32m     21\u001b[0m                       \u001b[0mcallbacks\u001b[0m \u001b[1;33m=\u001b[0m \u001b[1;33m[\u001b[0m\u001b[0mCheckpoint\u001b[0m\u001b[1;33m]\u001b[0m\u001b[1;33m,\u001b[0m\u001b[1;33m\u001b[0m\u001b[0m\n\u001b[0;32m     22\u001b[0m                       \u001b[0mvalidation_data\u001b[0m \u001b[1;33m=\u001b[0m \u001b[1;33m(\u001b[0m\u001b[0mX\u001b[0m\u001b[1;33m[\u001b[0m\u001b[0mtest\u001b[0m\u001b[1;33m,\u001b[0m \u001b[1;33m:\u001b[0m\u001b[1;33m,\u001b[0m \u001b[1;33m:\u001b[0m\u001b[1;33m,\u001b[0m \u001b[1;33m:\u001b[0m\u001b[1;33m]\u001b[0m\u001b[1;33m,\u001b[0m \u001b[0mlabels\u001b[0m\u001b[1;33m[\u001b[0m\u001b[0mtest\u001b[0m\u001b[1;33m]\u001b[0m\u001b[1;33m)\u001b[0m\u001b[1;33m,\u001b[0m\u001b[1;33m\u001b[0m\u001b[0m\n\u001b[1;32m---> 23\u001b[1;33m                        class_weight = {0:.41, 1:.59})\n\u001b[0m\u001b[0;32m     24\u001b[0m \u001b[1;33m\u001b[0m\u001b[0m\n\u001b[0;32m     25\u001b[0m \u001b[1;33m\u001b[0m\u001b[0m\n",
      "\u001b[1;32m/home/ubuntu/anaconda2/lib/python2.7/site-packages/keras/engine/training.pyc\u001b[0m in \u001b[0;36mfit_generator\u001b[1;34m(self, generator, samples_per_epoch, nb_epoch, verbose, callbacks, validation_data, nb_val_samples, class_weight, max_q_size, nb_worker, pickle_safe)\u001b[0m\n\u001b[0;32m   1443\u001b[0m                     outs = self.train_on_batch(x, y,\n\u001b[0;32m   1444\u001b[0m                                                \u001b[0msample_weight\u001b[0m\u001b[1;33m=\u001b[0m\u001b[0msample_weight\u001b[0m\u001b[1;33m,\u001b[0m\u001b[1;33m\u001b[0m\u001b[0m\n\u001b[1;32m-> 1445\u001b[1;33m                                                class_weight=class_weight)\n\u001b[0m\u001b[0;32m   1446\u001b[0m                 \u001b[1;32mexcept\u001b[0m\u001b[1;33m:\u001b[0m\u001b[1;33m\u001b[0m\u001b[0m\n\u001b[0;32m   1447\u001b[0m                     \u001b[0m_stop\u001b[0m\u001b[1;33m.\u001b[0m\u001b[0mset\u001b[0m\u001b[1;33m(\u001b[0m\u001b[1;33m)\u001b[0m\u001b[1;33m\u001b[0m\u001b[0m\n",
      "\u001b[1;32m/home/ubuntu/anaconda2/lib/python2.7/site-packages/keras/engine/training.pyc\u001b[0m in \u001b[0;36mtrain_on_batch\u001b[1;34m(self, x, y, sample_weight, class_weight)\u001b[0m\n\u001b[0;32m   1221\u001b[0m             \u001b[0mins\u001b[0m \u001b[1;33m=\u001b[0m \u001b[0mx\u001b[0m \u001b[1;33m+\u001b[0m \u001b[0my\u001b[0m \u001b[1;33m+\u001b[0m \u001b[0msample_weights\u001b[0m\u001b[1;33m\u001b[0m\u001b[0m\n\u001b[0;32m   1222\u001b[0m         \u001b[0mself\u001b[0m\u001b[1;33m.\u001b[0m\u001b[0m_make_train_function\u001b[0m\u001b[1;33m(\u001b[0m\u001b[1;33m)\u001b[0m\u001b[1;33m\u001b[0m\u001b[0m\n\u001b[1;32m-> 1223\u001b[1;33m         \u001b[0moutputs\u001b[0m \u001b[1;33m=\u001b[0m \u001b[0mself\u001b[0m\u001b[1;33m.\u001b[0m\u001b[0mtrain_function\u001b[0m\u001b[1;33m(\u001b[0m\u001b[0mins\u001b[0m\u001b[1;33m)\u001b[0m\u001b[1;33m\u001b[0m\u001b[0m\n\u001b[0m\u001b[0;32m   1224\u001b[0m         \u001b[1;32mif\u001b[0m \u001b[0mlen\u001b[0m\u001b[1;33m(\u001b[0m\u001b[0moutputs\u001b[0m\u001b[1;33m)\u001b[0m \u001b[1;33m==\u001b[0m \u001b[1;36m1\u001b[0m\u001b[1;33m:\u001b[0m\u001b[1;33m\u001b[0m\u001b[0m\n\u001b[0;32m   1225\u001b[0m             \u001b[1;32mreturn\u001b[0m \u001b[0moutputs\u001b[0m\u001b[1;33m[\u001b[0m\u001b[1;36m0\u001b[0m\u001b[1;33m]\u001b[0m\u001b[1;33m\u001b[0m\u001b[0m\n",
      "\u001b[1;32m/home/ubuntu/anaconda2/lib/python2.7/site-packages/keras/backend/theano_backend.pyc\u001b[0m in \u001b[0;36m__call__\u001b[1;34m(self, inputs)\u001b[0m\n\u001b[0;32m    560\u001b[0m     \u001b[1;32mdef\u001b[0m \u001b[0m__call__\u001b[0m\u001b[1;33m(\u001b[0m\u001b[0mself\u001b[0m\u001b[1;33m,\u001b[0m \u001b[0minputs\u001b[0m\u001b[1;33m)\u001b[0m\u001b[1;33m:\u001b[0m\u001b[1;33m\u001b[0m\u001b[0m\n\u001b[0;32m    561\u001b[0m         \u001b[1;32massert\u001b[0m \u001b[0mtype\u001b[0m\u001b[1;33m(\u001b[0m\u001b[0minputs\u001b[0m\u001b[1;33m)\u001b[0m \u001b[1;32min\u001b[0m \u001b[1;33m{\u001b[0m\u001b[0mlist\u001b[0m\u001b[1;33m,\u001b[0m \u001b[0mtuple\u001b[0m\u001b[1;33m}\u001b[0m\u001b[1;33m\u001b[0m\u001b[0m\n\u001b[1;32m--> 562\u001b[1;33m         \u001b[1;32mreturn\u001b[0m \u001b[0mself\u001b[0m\u001b[1;33m.\u001b[0m\u001b[0mfunction\u001b[0m\u001b[1;33m(\u001b[0m\u001b[1;33m*\u001b[0m\u001b[0minputs\u001b[0m\u001b[1;33m)\u001b[0m\u001b[1;33m\u001b[0m\u001b[0m\n\u001b[0m\u001b[0;32m    563\u001b[0m \u001b[1;33m\u001b[0m\u001b[0m\n\u001b[0;32m    564\u001b[0m \u001b[1;33m\u001b[0m\u001b[0m\n",
      "\u001b[1;32m/home/ubuntu/.local/lib/python2.7/site-packages/theano/compile/function_module.pyc\u001b[0m in \u001b[0;36m__call__\u001b[1;34m(self, *args, **kwargs)\u001b[0m\n\u001b[0;32m    857\u001b[0m         \u001b[0mt0_fn\u001b[0m \u001b[1;33m=\u001b[0m \u001b[0mtime\u001b[0m\u001b[1;33m.\u001b[0m\u001b[0mtime\u001b[0m\u001b[1;33m(\u001b[0m\u001b[1;33m)\u001b[0m\u001b[1;33m\u001b[0m\u001b[0m\n\u001b[0;32m    858\u001b[0m         \u001b[1;32mtry\u001b[0m\u001b[1;33m:\u001b[0m\u001b[1;33m\u001b[0m\u001b[0m\n\u001b[1;32m--> 859\u001b[1;33m             \u001b[0moutputs\u001b[0m \u001b[1;33m=\u001b[0m \u001b[0mself\u001b[0m\u001b[1;33m.\u001b[0m\u001b[0mfn\u001b[0m\u001b[1;33m(\u001b[0m\u001b[1;33m)\u001b[0m\u001b[1;33m\u001b[0m\u001b[0m\n\u001b[0m\u001b[0;32m    860\u001b[0m         \u001b[1;32mexcept\u001b[0m \u001b[0mException\u001b[0m\u001b[1;33m:\u001b[0m\u001b[1;33m\u001b[0m\u001b[0m\n\u001b[0;32m    861\u001b[0m             \u001b[1;32mif\u001b[0m \u001b[0mhasattr\u001b[0m\u001b[1;33m(\u001b[0m\u001b[0mself\u001b[0m\u001b[1;33m.\u001b[0m\u001b[0mfn\u001b[0m\u001b[1;33m,\u001b[0m \u001b[1;34m'position_of_error'\u001b[0m\u001b[1;33m)\u001b[0m\u001b[1;33m:\u001b[0m\u001b[1;33m\u001b[0m\u001b[0m\n",
      "\u001b[1;32m/home/ubuntu/.local/lib/python2.7/site-packages/theano/gof/op.pyc\u001b[0m in \u001b[0;36mrval\u001b[1;34m(p, i, o, n)\u001b[0m\n\u001b[0;32m    905\u001b[0m         \u001b[1;32mif\u001b[0m \u001b[0mparams\u001b[0m \u001b[1;32mis\u001b[0m \u001b[0mgraph\u001b[0m\u001b[1;33m.\u001b[0m\u001b[0mNoParams\u001b[0m\u001b[1;33m:\u001b[0m\u001b[1;33m\u001b[0m\u001b[0m\n\u001b[0;32m    906\u001b[0m             \u001b[1;31m# default arguments are stored in the closure of `rval`\u001b[0m\u001b[1;33m\u001b[0m\u001b[1;33m\u001b[0m\u001b[0m\n\u001b[1;32m--> 907\u001b[1;33m             \u001b[1;32mdef\u001b[0m \u001b[0mrval\u001b[0m\u001b[1;33m(\u001b[0m\u001b[0mp\u001b[0m\u001b[1;33m=\u001b[0m\u001b[0mp\u001b[0m\u001b[1;33m,\u001b[0m \u001b[0mi\u001b[0m\u001b[1;33m=\u001b[0m\u001b[0mnode_input_storage\u001b[0m\u001b[1;33m,\u001b[0m \u001b[0mo\u001b[0m\u001b[1;33m=\u001b[0m\u001b[0mnode_output_storage\u001b[0m\u001b[1;33m,\u001b[0m \u001b[0mn\u001b[0m\u001b[1;33m=\u001b[0m\u001b[0mnode\u001b[0m\u001b[1;33m)\u001b[0m\u001b[1;33m:\u001b[0m\u001b[1;33m\u001b[0m\u001b[0m\n\u001b[0m\u001b[0;32m    908\u001b[0m                 \u001b[0mr\u001b[0m \u001b[1;33m=\u001b[0m \u001b[0mp\u001b[0m\u001b[1;33m(\u001b[0m\u001b[0mn\u001b[0m\u001b[1;33m,\u001b[0m \u001b[1;33m[\u001b[0m\u001b[0mx\u001b[0m\u001b[1;33m[\u001b[0m\u001b[1;36m0\u001b[0m\u001b[1;33m]\u001b[0m \u001b[1;32mfor\u001b[0m \u001b[0mx\u001b[0m \u001b[1;32min\u001b[0m \u001b[0mi\u001b[0m\u001b[1;33m]\u001b[0m\u001b[1;33m,\u001b[0m \u001b[0mo\u001b[0m\u001b[1;33m)\u001b[0m\u001b[1;33m\u001b[0m\u001b[0m\n\u001b[0;32m    909\u001b[0m                 \u001b[1;32mfor\u001b[0m \u001b[0mo\u001b[0m \u001b[1;32min\u001b[0m \u001b[0mnode\u001b[0m\u001b[1;33m.\u001b[0m\u001b[0moutputs\u001b[0m\u001b[1;33m:\u001b[0m\u001b[1;33m\u001b[0m\u001b[0m\n",
      "\u001b[1;31mKeyboardInterrupt\u001b[0m: "
     ]
    }
   ],
   "source": [
    "n_folds = 5\n",
    "\n",
    "skf = StratifiedKFold(labels[:,0], n_folds=n_folds, shuffle=True)\n",
    "\n",
    "ES = EarlyStopping(monitor = 'val_loss', patience = 2, mode = 'min')\n",
    "\n",
    "class_oos_preds = np.zeros(labels.shape)\n",
    "\n",
    "#train with Cross validation\n",
    "for i, (train, test) in enumerate(skf):\n",
    "    print \"Running Fold\", i+1, \"/\", n_folds\n",
    "\n",
    "    model = None # Clearing the NN.\n",
    "    model = models.make_classifier()\n",
    "\n",
    "    train_generator = im_generator.flow(X[train, :, :, :],labels[train], shuffle=True, batch_size=32)\n",
    "\n",
    "    \n",
    "    Checkpoint = ModelCheckpoint('simple_full_weights.h5', save_best_only=True)\n",
    "    model.fit_generator(train_generator, 5600, 20,\n",
    "                      callbacks = [Checkpoint],\n",
    "                      validation_data = (X[test, :, :, :], labels[test]),\n",
    "                       class_weight = {0:.41, 1:.59})\n",
    "\n",
    "\n",
    "    model = models.make_classifier('fold_' + str(i) + '_weights.h5')\n",
    "    class_oos_preds[test] = model.predict(X[test, :, :, :])"
   ]
  },
  {
   "cell_type": "code",
   "execution_count": null,
   "metadata": {
    "collapsed": true
   },
   "outputs": [],
   "source": []
  },
  {
   "cell_type": "code",
   "execution_count": null,
   "metadata": {
    "collapsed": true
   },
   "outputs": [],
   "source": []
  },
  {
   "cell_type": "code",
   "execution_count": 5,
   "metadata": {
    "collapsed": true
   },
   "outputs": [],
   "source": []
  },
  {
   "cell_type": "code",
   "execution_count": null,
   "metadata": {
    "collapsed": false
   },
   "outputs": [],
   "source": []
  },
  {
   "cell_type": "code",
   "execution_count": 52,
   "metadata": {
    "collapsed": false
   },
   "outputs": [
    {
     "name": "stdout",
     "output_type": "stream",
     "text": [
      "Running Fold 1 / 5\n",
      "Epoch 1/20\n",
      "4512/4500 [==============================] - 280s - loss: -0.3196 - dice_coef: 0.3196 - val_loss: -0.5037 - val_dice_coef: 0.5037\n",
      "Epoch 2/20\n",
      "4512/4500 [==============================] - 279s - loss: -0.5441 - dice_coef: 0.5441 - val_loss: -0.5613 - val_dice_coef: 0.5613\n",
      "Epoch 3/20\n",
      "4512/4500 [==============================] - 278s - loss: -0.5821 - dice_coef: 0.5821 - val_loss: -0.5858 - val_dice_coef: 0.5858\n",
      "Epoch 4/20\n",
      "4512/4500 [==============================] - 277s - loss: -0.5931 - dice_coef: 0.5931 - val_loss: -0.5832 - val_dice_coef: 0.5832\n",
      "Epoch 5/20\n",
      "4512/4500 [==============================] - 278s - loss: -0.6082 - dice_coef: 0.6082 - val_loss: -0.5915 - val_dice_coef: 0.5915\n",
      "Epoch 6/20\n",
      "4512/4500 [==============================] - 278s - loss: -0.6334 - dice_coef: 0.6334 - val_loss: -0.5897 - val_dice_coef: 0.5897\n",
      "Epoch 7/20\n",
      "4512/4500 [==============================] - 278s - loss: -0.6230 - dice_coef: 0.6230 - val_loss: -0.6095 - val_dice_coef: 0.6095\n",
      "Epoch 8/20\n",
      "4512/4500 [==============================] - 279s - loss: -0.6196 - dice_coef: 0.6196 - val_loss: -0.5863 - val_dice_coef: 0.5863\n",
      "Epoch 9/20\n",
      "4512/4500 [==============================] - 278s - loss: -0.6269 - dice_coef: 0.6269 - val_loss: -0.6017 - val_dice_coef: 0.6017\n",
      "Epoch 10/20\n",
      "4512/4500 [==============================] - 277s - loss: -0.6498 - dice_coef: 0.6498 - val_loss: -0.6009 - val_dice_coef: 0.6009\n",
      "Epoch 11/20\n",
      "4512/4500 [==============================] - 277s - loss: -0.6327 - dice_coef: 0.6327 - val_loss: -0.6040 - val_dice_coef: 0.6040\n",
      "Epoch 12/20\n",
      "4512/4500 [==============================] - 277s - loss: -0.6513 - dice_coef: 0.6513 - val_loss: -0.6099 - val_dice_coef: 0.6099\n",
      "Epoch 13/20\n",
      "4512/4500 [==============================] - 278s - loss: -0.6521 - dice_coef: 0.6521 - val_loss: -0.6049 - val_dice_coef: 0.6049\n",
      "Epoch 14/20\n",
      "4512/4500 [==============================] - 278s - loss: -0.6530 - dice_coef: 0.6530 - val_loss: -0.5906 - val_dice_coef: 0.5906\n",
      "Epoch 15/20\n",
      "4512/4500 [==============================] - 278s - loss: -0.6474 - dice_coef: 0.6474 - val_loss: -0.6075 - val_dice_coef: 0.6075\n",
      "Epoch 16/20\n",
      " 672/4500 [===>..........................] - ETA: 218s - loss: -0.6840 - dice_coef: 0.6840"
     ]
    },
    {
     "ename": "KeyboardInterrupt",
     "evalue": "",
     "output_type": "error",
     "traceback": [
      "\u001b[1;31m---------------------------------------------------------------------------\u001b[0m",
      "\u001b[1;31mKeyboardInterrupt\u001b[0m                         Traceback (most recent call last)",
      "\u001b[1;32m<ipython-input-52-567b618c9b27>\u001b[0m in \u001b[0;36m<module>\u001b[1;34m()\u001b[0m\n\u001b[0;32m     16\u001b[0m     model.fit_generator(generator(X[train, :, :, :],y[train, :, :, :]), 4500, 20,\n\u001b[0;32m     17\u001b[0m                       \u001b[0mcallbacks\u001b[0m \u001b[1;33m=\u001b[0m \u001b[1;33m[\u001b[0m\u001b[0mCheckpoint\u001b[0m\u001b[1;33m]\u001b[0m\u001b[1;33m,\u001b[0m\u001b[1;33m\u001b[0m\u001b[0m\n\u001b[1;32m---> 18\u001b[1;33m                       validation_data = (X[test, :, :, :], y[test, :, :, :]))\n\u001b[0m\u001b[0;32m     19\u001b[0m \u001b[1;33m\u001b[0m\u001b[0m\n\u001b[0;32m     20\u001b[0m     \u001b[0mmodel\u001b[0m \u001b[1;33m=\u001b[0m \u001b[0mNone\u001b[0m \u001b[1;31m# Clearing the NN.\u001b[0m\u001b[1;33m\u001b[0m\u001b[0m\n",
      "\u001b[1;32m/home/ubuntu/anaconda2/lib/python2.7/site-packages/keras/engine/training.pyc\u001b[0m in \u001b[0;36mfit_generator\u001b[1;34m(self, generator, samples_per_epoch, nb_epoch, verbose, callbacks, validation_data, nb_val_samples, class_weight, max_q_size, nb_worker, pickle_safe)\u001b[0m\n\u001b[0;32m   1443\u001b[0m                     outs = self.train_on_batch(x, y,\n\u001b[0;32m   1444\u001b[0m                                                \u001b[0msample_weight\u001b[0m\u001b[1;33m=\u001b[0m\u001b[0msample_weight\u001b[0m\u001b[1;33m,\u001b[0m\u001b[1;33m\u001b[0m\u001b[0m\n\u001b[1;32m-> 1445\u001b[1;33m                                                class_weight=class_weight)\n\u001b[0m\u001b[0;32m   1446\u001b[0m                 \u001b[1;32mexcept\u001b[0m\u001b[1;33m:\u001b[0m\u001b[1;33m\u001b[0m\u001b[0m\n\u001b[0;32m   1447\u001b[0m                     \u001b[0m_stop\u001b[0m\u001b[1;33m.\u001b[0m\u001b[0mset\u001b[0m\u001b[1;33m(\u001b[0m\u001b[1;33m)\u001b[0m\u001b[1;33m\u001b[0m\u001b[0m\n",
      "\u001b[1;32m/home/ubuntu/anaconda2/lib/python2.7/site-packages/keras/engine/training.pyc\u001b[0m in \u001b[0;36mtrain_on_batch\u001b[1;34m(self, x, y, sample_weight, class_weight)\u001b[0m\n\u001b[0;32m   1221\u001b[0m             \u001b[0mins\u001b[0m \u001b[1;33m=\u001b[0m \u001b[0mx\u001b[0m \u001b[1;33m+\u001b[0m \u001b[0my\u001b[0m \u001b[1;33m+\u001b[0m \u001b[0msample_weights\u001b[0m\u001b[1;33m\u001b[0m\u001b[0m\n\u001b[0;32m   1222\u001b[0m         \u001b[0mself\u001b[0m\u001b[1;33m.\u001b[0m\u001b[0m_make_train_function\u001b[0m\u001b[1;33m(\u001b[0m\u001b[1;33m)\u001b[0m\u001b[1;33m\u001b[0m\u001b[0m\n\u001b[1;32m-> 1223\u001b[1;33m         \u001b[0moutputs\u001b[0m \u001b[1;33m=\u001b[0m \u001b[0mself\u001b[0m\u001b[1;33m.\u001b[0m\u001b[0mtrain_function\u001b[0m\u001b[1;33m(\u001b[0m\u001b[0mins\u001b[0m\u001b[1;33m)\u001b[0m\u001b[1;33m\u001b[0m\u001b[0m\n\u001b[0m\u001b[0;32m   1224\u001b[0m         \u001b[1;32mif\u001b[0m \u001b[0mlen\u001b[0m\u001b[1;33m(\u001b[0m\u001b[0moutputs\u001b[0m\u001b[1;33m)\u001b[0m \u001b[1;33m==\u001b[0m \u001b[1;36m1\u001b[0m\u001b[1;33m:\u001b[0m\u001b[1;33m\u001b[0m\u001b[0m\n\u001b[0;32m   1225\u001b[0m             \u001b[1;32mreturn\u001b[0m \u001b[0moutputs\u001b[0m\u001b[1;33m[\u001b[0m\u001b[1;36m0\u001b[0m\u001b[1;33m]\u001b[0m\u001b[1;33m\u001b[0m\u001b[0m\n",
      "\u001b[1;32m/home/ubuntu/anaconda2/lib/python2.7/site-packages/keras/backend/theano_backend.pyc\u001b[0m in \u001b[0;36m__call__\u001b[1;34m(self, inputs)\u001b[0m\n\u001b[0;32m    560\u001b[0m     \u001b[1;32mdef\u001b[0m \u001b[0m__call__\u001b[0m\u001b[1;33m(\u001b[0m\u001b[0mself\u001b[0m\u001b[1;33m,\u001b[0m \u001b[0minputs\u001b[0m\u001b[1;33m)\u001b[0m\u001b[1;33m:\u001b[0m\u001b[1;33m\u001b[0m\u001b[0m\n\u001b[0;32m    561\u001b[0m         \u001b[1;32massert\u001b[0m \u001b[0mtype\u001b[0m\u001b[1;33m(\u001b[0m\u001b[0minputs\u001b[0m\u001b[1;33m)\u001b[0m \u001b[1;32min\u001b[0m \u001b[1;33m{\u001b[0m\u001b[0mlist\u001b[0m\u001b[1;33m,\u001b[0m \u001b[0mtuple\u001b[0m\u001b[1;33m}\u001b[0m\u001b[1;33m\u001b[0m\u001b[0m\n\u001b[1;32m--> 562\u001b[1;33m         \u001b[1;32mreturn\u001b[0m \u001b[0mself\u001b[0m\u001b[1;33m.\u001b[0m\u001b[0mfunction\u001b[0m\u001b[1;33m(\u001b[0m\u001b[1;33m*\u001b[0m\u001b[0minputs\u001b[0m\u001b[1;33m)\u001b[0m\u001b[1;33m\u001b[0m\u001b[0m\n\u001b[0m\u001b[0;32m    563\u001b[0m \u001b[1;33m\u001b[0m\u001b[0m\n\u001b[0;32m    564\u001b[0m \u001b[1;33m\u001b[0m\u001b[0m\n",
      "\u001b[1;32m/home/ubuntu/.local/lib/python2.7/site-packages/theano/compile/function_module.pyc\u001b[0m in \u001b[0;36m__call__\u001b[1;34m(self, *args, **kwargs)\u001b[0m\n\u001b[0;32m    857\u001b[0m         \u001b[0mt0_fn\u001b[0m \u001b[1;33m=\u001b[0m \u001b[0mtime\u001b[0m\u001b[1;33m.\u001b[0m\u001b[0mtime\u001b[0m\u001b[1;33m(\u001b[0m\u001b[1;33m)\u001b[0m\u001b[1;33m\u001b[0m\u001b[0m\n\u001b[0;32m    858\u001b[0m         \u001b[1;32mtry\u001b[0m\u001b[1;33m:\u001b[0m\u001b[1;33m\u001b[0m\u001b[0m\n\u001b[1;32m--> 859\u001b[1;33m             \u001b[0moutputs\u001b[0m \u001b[1;33m=\u001b[0m \u001b[0mself\u001b[0m\u001b[1;33m.\u001b[0m\u001b[0mfn\u001b[0m\u001b[1;33m(\u001b[0m\u001b[1;33m)\u001b[0m\u001b[1;33m\u001b[0m\u001b[0m\n\u001b[0m\u001b[0;32m    860\u001b[0m         \u001b[1;32mexcept\u001b[0m \u001b[0mException\u001b[0m\u001b[1;33m:\u001b[0m\u001b[1;33m\u001b[0m\u001b[0m\n\u001b[0;32m    861\u001b[0m             \u001b[1;32mif\u001b[0m \u001b[0mhasattr\u001b[0m\u001b[1;33m(\u001b[0m\u001b[0mself\u001b[0m\u001b[1;33m.\u001b[0m\u001b[0mfn\u001b[0m\u001b[1;33m,\u001b[0m \u001b[1;34m'position_of_error'\u001b[0m\u001b[1;33m)\u001b[0m\u001b[1;33m:\u001b[0m\u001b[1;33m\u001b[0m\u001b[0m\n",
      "\u001b[1;31mKeyboardInterrupt\u001b[0m: "
     ]
    }
   ],
   "source": [
    "n_folds = 5\n",
    "\n",
    "skf = StratifiedKFold(labels, n_folds=n_folds, shuffle=True)\n",
    "\n",
    "ES = EarlyStopping(monitor = 'val_loss', patience = 2, mode = 'min')\n",
    "\n",
    "oos_preds = np.zeros(y.shape)\n",
    "    \n",
    "for i, (train, test) in enumerate(skf):\n",
    "    print \"Running Fold\", i+1, \"/\", n_folds\n",
    "\n",
    "    model = None # Clearing the NN.\n",
    "    model = models.u_net_model()\n",
    "    \n",
    "    Checkpoint = ModelCheckpoint('unet_fold_' + str(i) + '_weights.h5', save_best_only=True)\n",
    "    model.fit_generator(generator(X[train, :, :, :],y[train, :, :, :]), 4500, 20,\n",
    "                      callbacks = [Checkpoint],\n",
    "                      validation_data = (X[test, :, :, :], y[test, :, :, :]))\n",
    "    \n",
    "    model = None # Clearing the NN.\n",
    "    model = models.double_input_model(u_weights = 'unet_fold_' + str(i) + '_weights.h5')\n",
    "    \n",
    "    train_datagen = ImageDataGenerator()\n",
    "    train_generator = train_datagen.flow(X[train, :, :, :],y[train, :, :, :], shuffle=True, batch_size=32)\n",
    "    \n",
    "    Checkpoint = ModelCheckpoint('double_fold_' + str(i) + '_weights.h5', save_best_only=True)\n",
    "    model.fit_generator(train_generator, 4500, 10,\n",
    "                      callbacks = [Checkpoint],\n",
    "                      validation_data = (X[test, :, :, :], y[test, :, :, :]))\n",
    "\n",
    "\n",
    "    model = models.double_input_model('double_fold_' + str(i) + '_weights.h5')\n",
    "    oos_preds[test, :, :, :] = model.predict(X[test, :, :, :])"
   ]
  },
  {
   "cell_type": "code",
   "execution_count": null,
   "metadata": {
    "collapsed": true
   },
   "outputs": [],
   "source": []
  },
  {
   "cell_type": "code",
   "execution_count": null,
   "metadata": {
    "collapsed": true
   },
   "outputs": [],
   "source": []
  },
  {
   "cell_type": "code",
   "execution_count": 49,
   "metadata": {
    "collapsed": false
   },
   "outputs": [
    {
     "name": "stdout",
     "output_type": "stream",
     "text": [
      "Train on 5071 samples, validate on 564 samples\n",
      "Epoch 1/20\n",
      "5071/5071 [==============================] - 13s - loss: -0.5689 - dice_coef: 0.5689 - val_loss: -0.6482 - val_dice_coef: 0.6482\n",
      "Epoch 2/20\n",
      "5071/5071 [==============================] - 13s - loss: -0.6553 - dice_coef: 0.6553 - val_loss: -0.6508 - val_dice_coef: 0.6508\n",
      "Epoch 3/20\n",
      "5071/5071 [==============================] - 13s - loss: -0.6560 - dice_coef: 0.6560 - val_loss: -0.6503 - val_dice_coef: 0.6503\n",
      "Epoch 4/20\n",
      "5071/5071 [==============================] - 13s - loss: -0.6569 - dice_coef: 0.6569 - val_loss: -0.6505 - val_dice_coef: 0.6505\n",
      "Epoch 5/20\n",
      "5071/5071 [==============================] - 13s - loss: -0.6541 - dice_coef: 0.6541 - val_loss: -0.6481 - val_dice_coef: 0.6481\n",
      "Epoch 6/20\n",
      "5071/5071 [==============================] - 13s - loss: -0.6532 - dice_coef: 0.6532 - val_loss: -0.6503 - val_dice_coef: 0.6503\n",
      "Epoch 7/20\n",
      "3328/5071 [==================>...........] - ETA: 4s - loss: -0.6551 - dice_coef: 0.6551"
     ]
    },
    {
     "ename": "KeyboardInterrupt",
     "evalue": "",
     "output_type": "error",
     "traceback": [
      "\u001b[1;31m---------------------------------------------------------------------------\u001b[0m",
      "\u001b[1;31mKeyboardInterrupt\u001b[0m                         Traceback (most recent call last)",
      "\u001b[1;32m<ipython-input-49-70005a10c07e>\u001b[0m in \u001b[0;36m<module>\u001b[1;34m()\u001b[0m\n\u001b[0;32m      3\u001b[0m \u001b[0mCheckpoint\u001b[0m \u001b[1;33m=\u001b[0m \u001b[0mModelCheckpoint\u001b[0m\u001b[1;33m(\u001b[0m\u001b[1;34m'smoother_weights.h5'\u001b[0m\u001b[1;33m,\u001b[0m \u001b[0msave_best_only\u001b[0m\u001b[1;33m=\u001b[0m\u001b[0mTrue\u001b[0m\u001b[1;33m)\u001b[0m\u001b[1;33m\u001b[0m\u001b[0m\n\u001b[0;32m      4\u001b[0m smoother.fit(oos_preds, y, 32, 20, callbacks = [Checkpoint],\n\u001b[1;32m----> 5\u001b[1;33m                       validation_split = .1)\n\u001b[0m",
      "\u001b[1;32m/home/ubuntu/anaconda2/lib/python2.7/site-packages/keras/engine/training.pyc\u001b[0m in \u001b[0;36mfit\u001b[1;34m(self, x, y, batch_size, nb_epoch, verbose, callbacks, validation_split, validation_data, shuffle, class_weight, sample_weight)\u001b[0m\n\u001b[0;32m   1106\u001b[0m                               \u001b[0mverbose\u001b[0m\u001b[1;33m=\u001b[0m\u001b[0mverbose\u001b[0m\u001b[1;33m,\u001b[0m \u001b[0mcallbacks\u001b[0m\u001b[1;33m=\u001b[0m\u001b[0mcallbacks\u001b[0m\u001b[1;33m,\u001b[0m\u001b[1;33m\u001b[0m\u001b[0m\n\u001b[0;32m   1107\u001b[0m                               \u001b[0mval_f\u001b[0m\u001b[1;33m=\u001b[0m\u001b[0mval_f\u001b[0m\u001b[1;33m,\u001b[0m \u001b[0mval_ins\u001b[0m\u001b[1;33m=\u001b[0m\u001b[0mval_ins\u001b[0m\u001b[1;33m,\u001b[0m \u001b[0mshuffle\u001b[0m\u001b[1;33m=\u001b[0m\u001b[0mshuffle\u001b[0m\u001b[1;33m,\u001b[0m\u001b[1;33m\u001b[0m\u001b[0m\n\u001b[1;32m-> 1108\u001b[1;33m                               callback_metrics=callback_metrics)\n\u001b[0m\u001b[0;32m   1109\u001b[0m \u001b[1;33m\u001b[0m\u001b[0m\n\u001b[0;32m   1110\u001b[0m     \u001b[1;32mdef\u001b[0m \u001b[0mevaluate\u001b[0m\u001b[1;33m(\u001b[0m\u001b[0mself\u001b[0m\u001b[1;33m,\u001b[0m \u001b[0mx\u001b[0m\u001b[1;33m,\u001b[0m \u001b[0my\u001b[0m\u001b[1;33m,\u001b[0m \u001b[0mbatch_size\u001b[0m\u001b[1;33m=\u001b[0m\u001b[1;36m32\u001b[0m\u001b[1;33m,\u001b[0m \u001b[0mverbose\u001b[0m\u001b[1;33m=\u001b[0m\u001b[1;36m1\u001b[0m\u001b[1;33m,\u001b[0m \u001b[0msample_weight\u001b[0m\u001b[1;33m=\u001b[0m\u001b[0mNone\u001b[0m\u001b[1;33m)\u001b[0m\u001b[1;33m:\u001b[0m\u001b[1;33m\u001b[0m\u001b[0m\n",
      "\u001b[1;32m/home/ubuntu/anaconda2/lib/python2.7/site-packages/keras/engine/training.pyc\u001b[0m in \u001b[0;36m_fit_loop\u001b[1;34m(self, f, ins, out_labels, batch_size, nb_epoch, verbose, callbacks, val_f, val_ins, shuffle, callback_metrics)\u001b[0m\n\u001b[0;32m    824\u001b[0m                 \u001b[0mbatch_logs\u001b[0m\u001b[1;33m[\u001b[0m\u001b[1;34m'size'\u001b[0m\u001b[1;33m]\u001b[0m \u001b[1;33m=\u001b[0m \u001b[0mlen\u001b[0m\u001b[1;33m(\u001b[0m\u001b[0mbatch_ids\u001b[0m\u001b[1;33m)\u001b[0m\u001b[1;33m\u001b[0m\u001b[0m\n\u001b[0;32m    825\u001b[0m                 \u001b[0mcallbacks\u001b[0m\u001b[1;33m.\u001b[0m\u001b[0mon_batch_begin\u001b[0m\u001b[1;33m(\u001b[0m\u001b[0mbatch_index\u001b[0m\u001b[1;33m,\u001b[0m \u001b[0mbatch_logs\u001b[0m\u001b[1;33m)\u001b[0m\u001b[1;33m\u001b[0m\u001b[0m\n\u001b[1;32m--> 826\u001b[1;33m                 \u001b[0mouts\u001b[0m \u001b[1;33m=\u001b[0m \u001b[0mf\u001b[0m\u001b[1;33m(\u001b[0m\u001b[0mins_batch\u001b[0m\u001b[1;33m)\u001b[0m\u001b[1;33m\u001b[0m\u001b[0m\n\u001b[0m\u001b[0;32m    827\u001b[0m                 \u001b[1;32mif\u001b[0m \u001b[0mtype\u001b[0m\u001b[1;33m(\u001b[0m\u001b[0mouts\u001b[0m\u001b[1;33m)\u001b[0m \u001b[1;33m!=\u001b[0m \u001b[0mlist\u001b[0m\u001b[1;33m:\u001b[0m\u001b[1;33m\u001b[0m\u001b[0m\n\u001b[0;32m    828\u001b[0m                     \u001b[0mouts\u001b[0m \u001b[1;33m=\u001b[0m \u001b[1;33m[\u001b[0m\u001b[0mouts\u001b[0m\u001b[1;33m]\u001b[0m\u001b[1;33m\u001b[0m\u001b[0m\n",
      "\u001b[1;32m/home/ubuntu/anaconda2/lib/python2.7/site-packages/keras/backend/theano_backend.pyc\u001b[0m in \u001b[0;36m__call__\u001b[1;34m(self, inputs)\u001b[0m\n\u001b[0;32m    560\u001b[0m     \u001b[1;32mdef\u001b[0m \u001b[0m__call__\u001b[0m\u001b[1;33m(\u001b[0m\u001b[0mself\u001b[0m\u001b[1;33m,\u001b[0m \u001b[0minputs\u001b[0m\u001b[1;33m)\u001b[0m\u001b[1;33m:\u001b[0m\u001b[1;33m\u001b[0m\u001b[0m\n\u001b[0;32m    561\u001b[0m         \u001b[1;32massert\u001b[0m \u001b[0mtype\u001b[0m\u001b[1;33m(\u001b[0m\u001b[0minputs\u001b[0m\u001b[1;33m)\u001b[0m \u001b[1;32min\u001b[0m \u001b[1;33m{\u001b[0m\u001b[0mlist\u001b[0m\u001b[1;33m,\u001b[0m \u001b[0mtuple\u001b[0m\u001b[1;33m}\u001b[0m\u001b[1;33m\u001b[0m\u001b[0m\n\u001b[1;32m--> 562\u001b[1;33m         \u001b[1;32mreturn\u001b[0m \u001b[0mself\u001b[0m\u001b[1;33m.\u001b[0m\u001b[0mfunction\u001b[0m\u001b[1;33m(\u001b[0m\u001b[1;33m*\u001b[0m\u001b[0minputs\u001b[0m\u001b[1;33m)\u001b[0m\u001b[1;33m\u001b[0m\u001b[0m\n\u001b[0m\u001b[0;32m    563\u001b[0m \u001b[1;33m\u001b[0m\u001b[0m\n\u001b[0;32m    564\u001b[0m \u001b[1;33m\u001b[0m\u001b[0m\n",
      "\u001b[1;32m/home/ubuntu/.local/lib/python2.7/site-packages/theano/compile/function_module.pyc\u001b[0m in \u001b[0;36m__call__\u001b[1;34m(self, *args, **kwargs)\u001b[0m\n\u001b[0;32m    857\u001b[0m         \u001b[0mt0_fn\u001b[0m \u001b[1;33m=\u001b[0m \u001b[0mtime\u001b[0m\u001b[1;33m.\u001b[0m\u001b[0mtime\u001b[0m\u001b[1;33m(\u001b[0m\u001b[1;33m)\u001b[0m\u001b[1;33m\u001b[0m\u001b[0m\n\u001b[0;32m    858\u001b[0m         \u001b[1;32mtry\u001b[0m\u001b[1;33m:\u001b[0m\u001b[1;33m\u001b[0m\u001b[0m\n\u001b[1;32m--> 859\u001b[1;33m             \u001b[0moutputs\u001b[0m \u001b[1;33m=\u001b[0m \u001b[0mself\u001b[0m\u001b[1;33m.\u001b[0m\u001b[0mfn\u001b[0m\u001b[1;33m(\u001b[0m\u001b[1;33m)\u001b[0m\u001b[1;33m\u001b[0m\u001b[0m\n\u001b[0m\u001b[0;32m    860\u001b[0m         \u001b[1;32mexcept\u001b[0m \u001b[0mException\u001b[0m\u001b[1;33m:\u001b[0m\u001b[1;33m\u001b[0m\u001b[0m\n\u001b[0;32m    861\u001b[0m             \u001b[1;32mif\u001b[0m \u001b[0mhasattr\u001b[0m\u001b[1;33m(\u001b[0m\u001b[0mself\u001b[0m\u001b[1;33m.\u001b[0m\u001b[0mfn\u001b[0m\u001b[1;33m,\u001b[0m \u001b[1;34m'position_of_error'\u001b[0m\u001b[1;33m)\u001b[0m\u001b[1;33m:\u001b[0m\u001b[1;33m\u001b[0m\u001b[0m\n",
      "\u001b[1;31mKeyboardInterrupt\u001b[0m: "
     ]
    }
   ],
   "source": [
    "smoother = models.smoother()\n",
    "\n",
    "Checkpoint = ModelCheckpoint('smoother_weights.h5', save_best_only=True)\n",
    "smoother.fit(oos_preds, y, 32, 20, callbacks = [Checkpoint],\n",
    "                      validation_split = .1)"
   ]
  },
  {
   "cell_type": "code",
   "execution_count": null,
   "metadata": {
    "collapsed": true
   },
   "outputs": [],
   "source": []
  },
  {
   "cell_type": "code",
   "execution_count": 7,
   "metadata": {
    "collapsed": false
   },
   "outputs": [],
   "source": [
    "vgg_out = np.load('/mnt/weights/vgg_preds.npy')"
   ]
  },
  {
   "cell_type": "code",
   "execution_count": 8,
   "metadata": {
    "collapsed": false,
    "scrolled": true
   },
   "outputs": [
    {
     "name": "stderr",
     "output_type": "stream",
     "text": [
      "[0]\teval-error:0.345745\ttrain-error:0.304637\n",
      "[1]\teval-error:0.335106\ttrain-error:0.270246\n",
      "[2]\teval-error:0.313830\ttrain-error:0.248946\n",
      "[3]\teval-error:0.311170\ttrain-error:0.232749\n",
      "[4]\teval-error:0.296986\ttrain-error:0.221211\n",
      "[5]\teval-error:0.293440\ttrain-error:0.211005\n",
      "[6]\teval-error:0.302305\ttrain-error:0.209230\n",
      "[7]\teval-error:0.296986\ttrain-error:0.194364\n",
      "[8]\teval-error:0.284574\ttrain-error:0.192811\n",
      "[9]\teval-error:0.283688\ttrain-error:0.188152\n",
      "[10]\teval-error:0.276596\ttrain-error:0.179499\n",
      "[11]\teval-error:0.283688\ttrain-error:0.173952\n",
      "[12]\teval-error:0.281028\ttrain-error:0.166408\n",
      "[13]\teval-error:0.268617\ttrain-error:0.161970\n",
      "[14]\teval-error:0.266844\ttrain-error:0.159530\n",
      "[15]\teval-error:0.270390\ttrain-error:0.155092\n",
      "[16]\teval-error:0.265957\ttrain-error:0.150876\n",
      "[17]\teval-error:0.266844\ttrain-error:0.144664\n",
      "[18]\teval-error:0.261525\ttrain-error:0.138451\n",
      "[19]\teval-error:0.260638\ttrain-error:0.133126\n",
      "[20]\teval-error:0.258865\ttrain-error:0.122920\n",
      "[21]\teval-error:0.252660\ttrain-error:0.123586\n",
      "[22]\teval-error:0.258865\ttrain-error:0.123142\n",
      "[23]\teval-error:0.252660\ttrain-error:0.122920\n",
      "[24]\teval-error:0.250887\ttrain-error:0.117373\n",
      "[25]\teval-error:0.252660\ttrain-error:0.114932\n",
      "[26]\teval-error:0.252660\ttrain-error:0.110051\n",
      "[27]\teval-error:0.242908\ttrain-error:0.106723\n",
      "[28]\teval-error:0.242908\ttrain-error:0.103838\n",
      "[29]\teval-error:0.239362\ttrain-error:0.101620\n",
      "[30]\teval-error:0.238475\ttrain-error:0.099623\n",
      "[31]\teval-error:0.239362\ttrain-error:0.096517\n",
      "[32]\teval-error:0.242021\ttrain-error:0.094076\n",
      "[33]\teval-error:0.238475\ttrain-error:0.093632\n",
      "[34]\teval-error:0.241135\ttrain-error:0.090526\n",
      "[35]\teval-error:0.237589\ttrain-error:0.089860\n",
      "[36]\teval-error:0.239362\ttrain-error:0.086532\n",
      "[37]\teval-error:0.245567\ttrain-error:0.085423\n",
      "[38]\teval-error:0.242908\ttrain-error:0.084313\n",
      "[39]\teval-error:0.242908\ttrain-error:0.082982\n",
      "[40]\teval-error:0.240248\ttrain-error:0.078544\n",
      "[41]\teval-error:0.236702\ttrain-error:0.076769\n",
      "[42]\teval-error:0.237589\ttrain-error:0.074107\n",
      "[43]\teval-error:0.237589\ttrain-error:0.073885\n",
      "[44]\teval-error:0.234929\ttrain-error:0.072110\n",
      "[45]\teval-error:0.233156\ttrain-error:0.071444\n",
      "[46]\teval-error:0.231383\ttrain-error:0.068338\n",
      "[47]\teval-error:0.233156\ttrain-error:0.065676\n",
      "[48]\teval-error:0.232270\ttrain-error:0.063679\n",
      "[49]\teval-error:0.234929\ttrain-error:0.059907\n",
      "[0]\teval-error:0.344858\ttrain-error:0.291546\n",
      "[1]\teval-error:0.327128\ttrain-error:0.282228\n",
      "[2]\teval-error:0.313830\ttrain-error:0.249834\n",
      "[3]\teval-error:0.301418\ttrain-error:0.239183\n",
      "[4]\teval-error:0.303191\ttrain-error:0.229643\n",
      "[5]\teval-error:0.283688\ttrain-error:0.209674\n",
      "[6]\teval-error:0.273936\ttrain-error:0.203905\n",
      "[7]\teval-error:0.275709\ttrain-error:0.192146\n",
      "[8]\teval-error:0.268617\ttrain-error:0.183492\n",
      "[9]\teval-error:0.273050\ttrain-error:0.177724\n",
      "[10]\teval-error:0.266844\ttrain-error:0.173064\n",
      "[11]\teval-error:0.265957\ttrain-error:0.166408\n",
      "[12]\teval-error:0.268617\ttrain-error:0.159308\n",
      "[13]\teval-error:0.265071\ttrain-error:0.158420\n",
      "[14]\teval-error:0.257979\ttrain-error:0.153539\n",
      "[15]\teval-error:0.257092\ttrain-error:0.147770\n",
      "[16]\teval-error:0.260638\ttrain-error:0.143111\n",
      "[17]\teval-error:0.266844\ttrain-error:0.139117\n",
      "[18]\teval-error:0.261525\ttrain-error:0.134014\n",
      "[19]\teval-error:0.260638\ttrain-error:0.128689\n",
      "[20]\teval-error:0.253546\ttrain-error:0.123807\n",
      "[21]\teval-error:0.258865\ttrain-error:0.122254\n",
      "[22]\teval-error:0.252660\ttrain-error:0.118482\n",
      "[23]\teval-error:0.256206\ttrain-error:0.114932\n",
      "[24]\teval-error:0.252660\ttrain-error:0.112048\n",
      "[25]\teval-error:0.254433\ttrain-error:0.108276\n",
      "[26]\teval-error:0.247340\ttrain-error:0.107389\n",
      "[27]\teval-error:0.242908\ttrain-error:0.107167\n",
      "[28]\teval-error:0.250887\ttrain-error:0.102729\n",
      "[29]\teval-error:0.250000\ttrain-error:0.101620\n",
      "[30]\teval-error:0.245567\ttrain-error:0.096738\n",
      "[31]\teval-error:0.246454\ttrain-error:0.093410\n",
      "[32]\teval-error:0.251773\ttrain-error:0.092301\n",
      "[33]\teval-error:0.248227\ttrain-error:0.089638\n",
      "[34]\teval-error:0.246454\ttrain-error:0.088085\n",
      "[35]\teval-error:0.247340\ttrain-error:0.083870\n",
      "[36]\teval-error:0.247340\ttrain-error:0.082982\n",
      "[37]\teval-error:0.246454\ttrain-error:0.080320\n",
      "[38]\teval-error:0.245567\ttrain-error:0.078766\n",
      "[39]\teval-error:0.248227\ttrain-error:0.075216\n",
      "[40]\teval-error:0.244681\ttrain-error:0.072998\n",
      "[41]\teval-error:0.244681\ttrain-error:0.072776\n",
      "[42]\teval-error:0.247340\ttrain-error:0.071001\n",
      "[43]\teval-error:0.242908\ttrain-error:0.069226\n",
      "[44]\teval-error:0.244681\ttrain-error:0.066563\n",
      "[45]\teval-error:0.236702\ttrain-error:0.065454\n",
      "[46]\teval-error:0.236702\ttrain-error:0.063235\n",
      "[47]\teval-error:0.242021\ttrain-error:0.062347\n",
      "[48]\teval-error:0.244681\ttrain-error:0.061904\n",
      "[49]\teval-error:0.242021\ttrain-error:0.059685\n"
     ]
    },
    {
     "name": "stdout",
     "output_type": "stream",
     "text": [
      "0.765070921986\n",
      "0.757978723404"
     ]
    },
    {
     "name": "stderr",
     "output_type": "stream",
     "text": [
      "[0]\teval-error:0.352263\ttrain-error:0.316992\n",
      "[1]\teval-error:0.331854\ttrain-error:0.283496\n",
      "[2]\teval-error:0.323869\ttrain-error:0.254215\n",
      "[3]\teval-error:0.322094\ttrain-error:0.246007\n",
      "[4]\teval-error:0.321207\ttrain-error:0.225155\n",
      "[5]\teval-error:0.322981\ttrain-error:0.220053\n",
      "[6]\teval-error:0.310559\ttrain-error:0.209405\n",
      "[7]\teval-error:0.299024\ttrain-error:0.201863\n",
      "[8]\teval-error:0.300799\ttrain-error:0.193656\n",
      "[9]\teval-error:0.305235\ttrain-error:0.186779\n",
      "[10]\teval-error:0.296362\ttrain-error:0.178350\n",
      "[11]\teval-error:0.302573\ttrain-error:0.172360\n",
      "[12]\teval-error:0.292813\ttrain-error:0.164374\n",
      "[13]\teval-error:0.297249\ttrain-error:0.157720\n",
      "[14]\teval-error:0.294587\ttrain-error:0.154392\n",
      "[15]\teval-error:0.289264\ttrain-error:0.144188\n",
      "[16]\teval-error:0.282165\ttrain-error:0.139530\n",
      "[17]\teval-error:0.281278\ttrain-error:0.139752\n",
      "[18]\teval-error:0.287489\ttrain-error:0.136646\n",
      "[19]\teval-error:0.283052\ttrain-error:0.132875\n",
      "[20]\teval-error:0.282165\ttrain-error:0.127551\n",
      "[21]\teval-error:0.273292\ttrain-error:0.125333\n",
      "[22]\teval-error:0.274179\ttrain-error:0.121562\n",
      "[23]\teval-error:0.277728\ttrain-error:0.116238\n",
      "[24]\teval-error:0.272405\ttrain-error:0.113354\n",
      "[25]\teval-error:0.273292\ttrain-error:0.110692\n",
      "[26]\teval-error:0.266193\ttrain-error:0.108252\n",
      "[27]\teval-error:0.264419\ttrain-error:0.103150\n",
      "[28]\teval-error:0.269743\ttrain-error:0.098713\n",
      "[29]\teval-error:0.267968\ttrain-error:0.096273\n",
      "[30]\teval-error:0.265306\ttrain-error:0.095386\n",
      "[31]\teval-error:0.267968\ttrain-error:0.094720\n",
      "[32]\teval-error:0.266193\ttrain-error:0.090284\n",
      "[33]\teval-error:0.266193\ttrain-error:0.088066\n",
      "[34]\teval-error:0.261757\ttrain-error:0.086513\n",
      "[35]\teval-error:0.266193\ttrain-error:0.086291\n",
      "[36]\teval-error:0.262644\ttrain-error:0.082520\n",
      "[37]\teval-error:0.263532\ttrain-error:0.080745\n",
      "[38]\teval-error:0.256433\ttrain-error:0.076087\n",
      "[39]\teval-error:0.261757\ttrain-error:0.076087\n",
      "[40]\teval-error:0.261757\ttrain-error:0.074756\n",
      "[41]\teval-error:0.259982\ttrain-error:0.072094\n",
      "[42]\teval-error:0.258208\ttrain-error:0.071650\n",
      "[43]\teval-error:0.262644\ttrain-error:0.067879\n",
      "[44]\teval-error:0.260870\ttrain-error:0.067436\n",
      "[45]\teval-error:0.260870\ttrain-error:0.066327\n",
      "[46]\teval-error:0.259095\ttrain-error:0.065661\n",
      "[47]\teval-error:0.262644\ttrain-error:0.065217\n",
      "[48]\teval-error:0.261757\ttrain-error:0.062555\n",
      "[49]\teval-error:0.261757\ttrain-error:0.061003\n"
     ]
    },
    {
     "name": "stdout",
     "output_type": "stream",
     "text": [
      "\n",
      "0.738243123336"
     ]
    },
    {
     "name": "stderr",
     "output_type": "stream",
     "text": [
      "[0]\teval-error:0.334814\ttrain-error:0.284320\n",
      "[1]\teval-error:0.333925\ttrain-error:0.263473\n",
      "[2]\teval-error:0.314387\ttrain-error:0.247505\n",
      "[3]\teval-error:0.303730\ttrain-error:0.231315\n",
      "[4]\teval-error:0.290409\ttrain-error:0.218896\n",
      "[5]\teval-error:0.301066\ttrain-error:0.209581\n",
      "[6]\teval-error:0.281528\ttrain-error:0.198270\n",
      "[7]\teval-error:0.292185\ttrain-error:0.196496\n",
      "[8]\teval-error:0.291297\ttrain-error:0.188290\n",
      "[9]\teval-error:0.287744\ttrain-error:0.182080\n",
      "[10]\teval-error:0.287744\ttrain-error:0.174096\n",
      "[11]\teval-error:0.280639\ttrain-error:0.166778\n",
      "[12]\teval-error:0.278863\ttrain-error:0.165003\n",
      "[13]\teval-error:0.272647\ttrain-error:0.158350\n",
      "[14]\teval-error:0.277975\ttrain-error:0.153471\n",
      "[15]\teval-error:0.262877\ttrain-error:0.150588\n",
      "[16]\teval-error:0.265542\ttrain-error:0.144821\n",
      "[17]\teval-error:0.269982\ttrain-error:0.139277\n",
      "[18]\teval-error:0.269094\ttrain-error:0.137059\n",
      "[19]\teval-error:0.257549\ttrain-error:0.134398\n",
      "[20]\teval-error:0.259325\ttrain-error:0.129741\n",
      "[21]\teval-error:0.259325\ttrain-error:0.128632\n",
      "[22]\teval-error:0.265542\ttrain-error:0.120204\n",
      "[23]\teval-error:0.257549\ttrain-error:0.115768\n",
      "[24]\teval-error:0.260213\ttrain-error:0.115547\n",
      "[25]\teval-error:0.254885\ttrain-error:0.114216\n",
      "[26]\teval-error:0.260213\ttrain-error:0.111333\n",
      "[27]\teval-error:0.252220\ttrain-error:0.109337\n",
      "[28]\teval-error:0.254885\ttrain-error:0.105123\n",
      "[29]\teval-error:0.251332\ttrain-error:0.104680\n",
      "[30]\teval-error:0.248668\ttrain-error:0.102240\n",
      "[31]\teval-error:0.252220\ttrain-error:0.100022\n",
      "[32]\teval-error:0.252220\ttrain-error:0.100688\n",
      "[33]\teval-error:0.250444\ttrain-error:0.098913\n",
      "[34]\teval-error:0.253996\ttrain-error:0.093369\n",
      "[35]\teval-error:0.254885\ttrain-error:0.089820\n",
      "[36]\teval-error:0.253108\ttrain-error:0.088490\n",
      "[37]\teval-error:0.251332\ttrain-error:0.086715\n",
      "[38]\teval-error:0.255773\ttrain-error:0.084054\n",
      "[39]\teval-error:0.253108\ttrain-error:0.081393\n",
      "[40]\teval-error:0.258437\ttrain-error:0.078731\n",
      "[41]\teval-error:0.259325\ttrain-error:0.077401\n",
      "[42]\teval-error:0.257549\ttrain-error:0.074961\n",
      "[43]\teval-error:0.256661\ttrain-error:0.074518\n",
      "[44]\teval-error:0.256661\ttrain-error:0.072522\n",
      "[45]\teval-error:0.254885\ttrain-error:0.071191\n",
      "[46]\teval-error:0.257549\ttrain-error:0.067199\n",
      "[47]\teval-error:0.257549\ttrain-error:0.064981\n",
      "[48]\teval-error:0.258437\ttrain-error:0.064759\n",
      "[49]\teval-error:0.259325\ttrain-error:0.065425\n"
     ]
    },
    {
     "name": "stdout",
     "output_type": "stream",
     "text": [
      "\n",
      "0.740674955595"
     ]
    },
    {
     "name": "stderr",
     "output_type": "stream",
     "text": [
      "[0]\teval-error:0.351687\ttrain-error:0.285651\n",
      "[1]\teval-error:0.339254\ttrain-error:0.263029\n",
      "[2]\teval-error:0.333037\ttrain-error:0.239965\n",
      "[3]\teval-error:0.315275\ttrain-error:0.229097\n",
      "[4]\teval-error:0.312611\ttrain-error:0.215569\n",
      "[5]\teval-error:0.301954\ttrain-error:0.210246\n",
      "[6]\teval-error:0.296625\ttrain-error:0.200266\n",
      "[7]\teval-error:0.297513\ttrain-error:0.196496\n",
      "[8]\teval-error:0.299290\ttrain-error:0.185851\n",
      "[9]\teval-error:0.294849\ttrain-error:0.180528\n",
      "[10]\teval-error:0.297513\ttrain-error:0.174540\n",
      "[11]\teval-error:0.290409\ttrain-error:0.169439\n",
      "[12]\teval-error:0.284192\ttrain-error:0.163673\n",
      "[13]\teval-error:0.285968\ttrain-error:0.157241\n",
      "[14]\teval-error:0.272647\ttrain-error:0.151253\n",
      "[15]\teval-error:0.272647\ttrain-error:0.146596\n",
      "[16]\teval-error:0.275311\ttrain-error:0.142382\n",
      "[17]\teval-error:0.269094\ttrain-error:0.134176\n",
      "[18]\teval-error:0.264654\ttrain-error:0.131293\n",
      "[19]\teval-error:0.265542\ttrain-error:0.126857\n",
      "[20]\teval-error:0.266430\ttrain-error:0.123752\n",
      "[21]\teval-error:0.263766\ttrain-error:0.121756\n",
      "[22]\teval-error:0.269982\ttrain-error:0.117099\n",
      "[23]\teval-error:0.268206\ttrain-error:0.110668\n",
      "[24]\teval-error:0.266430\ttrain-error:0.110224\n",
      "[25]\teval-error:0.261989\ttrain-error:0.107119\n",
      "[26]\teval-error:0.262877\ttrain-error:0.104458\n",
      "[27]\teval-error:0.258437\ttrain-error:0.103792\n",
      "[28]\teval-error:0.262877\ttrain-error:0.098692\n",
      "[29]\teval-error:0.261101\ttrain-error:0.094034\n",
      "[30]\teval-error:0.256661\ttrain-error:0.092038\n",
      "[31]\teval-error:0.259325\ttrain-error:0.093369\n",
      "[32]\teval-error:0.261101\ttrain-error:0.087381\n",
      "[33]\teval-error:0.264654\ttrain-error:0.085385\n",
      "[34]\teval-error:0.256661\ttrain-error:0.084498\n",
      "[35]\teval-error:0.253996\ttrain-error:0.081171\n",
      "[36]\teval-error:0.263766\ttrain-error:0.078066\n",
      "[37]\teval-error:0.259325\ttrain-error:0.078288\n",
      "[38]\teval-error:0.257549\ttrain-error:0.077401\n",
      "[39]\teval-error:0.255773\ttrain-error:0.073409\n",
      "[40]\teval-error:0.255773\ttrain-error:0.071635\n",
      "[41]\teval-error:0.259325\ttrain-error:0.071191\n",
      "[42]\teval-error:0.263766\ttrain-error:0.067642\n",
      "[43]\teval-error:0.256661\ttrain-error:0.066312\n",
      "[44]\teval-error:0.257549\ttrain-error:0.065203\n",
      "[45]\teval-error:0.254885\ttrain-error:0.064094\n",
      "[46]\teval-error:0.253108\ttrain-error:0.063650\n",
      "[47]\teval-error:0.253996\ttrain-error:0.061211\n",
      "[48]\teval-error:0.253996\ttrain-error:0.059880\n",
      "[49]\teval-error:0.253996\ttrain-error:0.057662\n"
     ]
    },
    {
     "name": "stdout",
     "output_type": "stream",
     "text": [
      "\n",
      "0.746003552398\n"
     ]
    }
   ],
   "source": [
    "param = {'max_depth':4, 'eta':0.15, 'gamma':0, 'silent':0, 'objective':'binary:logistic', 'colsample_bytree':.5,\n",
    "             'nthread':6, 'min_child_weight':1.4, 'scale_pos_weight':.59/.41}\n",
    "\n",
    "numround = 50\n",
    "\n",
    "\n",
    "skf = StratifiedKFold(labels[:,0], n_folds=5, shuffle=True)\n",
    "xgb_preds = np.zeros(labels.shape[0])\n",
    "\n",
    "for i, (train,test) in enumerate(skf):\n",
    "    \n",
    "    dtrain = xgb.DMatrix(vgg_out[train, :], label=labels[train, :])\n",
    "    dtest = xgb.DMatrix(vgg_out[test, :], label=labels[test, :])\n",
    "    \n",
    "    bst = xgb.train(param, dtrain, numround, [(dtest,'eval'), (dtrain,'train')])\n",
    "    \n",
    "    xgb_preds[test] = bst.predict(dtest)\n",
    "    \n",
    "    print (1.0 * np.sum((xgb_preds[test] > .5) == labels[test,0])) / len(test)"
   ]
  },
  {
   "cell_type": "code",
   "execution_count": 64,
   "metadata": {
    "collapsed": false
   },
   "outputs": [
    {
     "data": {
      "text/plain": [
       "0.7563442768411712"
      ]
     },
     "execution_count": 64,
     "metadata": {},
     "output_type": "execute_result"
    }
   ],
   "source": [
    "(1.0 * np.sum((xgb_preds > .5) == labels[:,0])) / len(xgb_preds)"
   ]
  },
  {
   "cell_type": "code",
   "execution_count": null,
   "metadata": {
    "collapsed": true
   },
   "outputs": [],
   "source": []
  },
  {
   "cell_type": "code",
   "execution_count": 65,
   "metadata": {
    "collapsed": true
   },
   "outputs": [],
   "source": [
    "dtrain = xgb.DMatrix(vgg_out, label=labels)\n",
    "bst = xgb.train(param, dtrain, numround)\n",
    "bst.save_model('xgb.model')"
   ]
  },
  {
   "cell_type": "code",
   "execution_count": null,
   "metadata": {
    "collapsed": true
   },
   "outputs": [],
   "source": []
  }
 ],
 "metadata": {
  "kernelspec": {
   "display_name": "Python 2",
   "language": "python",
   "name": "python2"
  },
  "language_info": {
   "codemirror_mode": {
    "name": "ipython",
    "version": 2
   },
   "file_extension": ".py",
   "mimetype": "text/x-python",
   "name": "python",
   "nbconvert_exporter": "python",
   "pygments_lexer": "ipython2",
   "version": "2.7.12"
  }
 },
 "nbformat": 4,
 "nbformat_minor": 0
}
